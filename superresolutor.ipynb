{
 "cells": [
  {
   "cell_type": "code",
   "execution_count": 1,
   "metadata": {},
   "outputs": [],
   "source": [
    "import numpy as np\n",
    "import cv2"
   ]
  },
  {
   "cell_type": "code",
   "execution_count": 2,
   "metadata": {},
   "outputs": [],
   "source": [
    "arr = np.array([[13,2,6,9],[67,12,4,9],[89, 45,14,78]])"
   ]
  },
  {
   "cell_type": "code",
   "execution_count": 10,
   "metadata": {},
   "outputs": [
    {
     "data": {
      "text/plain": [
       "(3, 4, 3)"
      ]
     },
     "execution_count": 10,
     "metadata": {},
     "output_type": "execute_result"
    }
   ],
   "source": [
    "arr = cv2.cvtColor(arr.astype(np.uint8), cv2.COLOR_BGR2RGB)\n",
    "arr.shape\n"
   ]
  },
  {
   "cell_type": "code",
   "execution_count": 6,
   "metadata": {},
   "outputs": [
    {
     "data": {
      "text/plain": [
       "70"
      ]
     },
     "execution_count": 6,
     "metadata": {},
     "output_type": "execute_result"
    }
   ],
   "source": [
    "cv2.imshow('image',arr)\n",
    "cv2.waitKey(0)"
   ]
  },
  {
   "cell_type": "code",
   "execution_count": 11,
   "metadata": {},
   "outputs": [
    {
     "data": {
      "text/plain": [
       "array([[68, 11, 12],\n",
       "       [15, 31,  1],\n",
       "       [ 4,  0, 14]])"
      ]
     },
     "execution_count": 11,
     "metadata": {},
     "output_type": "execute_result"
    }
   ],
   "source": [
    "arra = np.array([[68,11,12],[15,31,1],[4,0,14]])\n",
    "arra"
   ]
  },
  {
   "cell_type": "code",
   "execution_count": 14,
   "metadata": {},
   "outputs": [],
   "source": [
    "def dummy_initiator(matrix, k_factor):\n",
    "    #get low resolution matrix shape\n",
    "    x,y = matrix.shape\n",
    "    \n",
    "    #create a new resolution matrix of shape increased by a factor of k\n",
    "    #creates a super resolution image with neighbors initialized to ones.\n",
    "    super_matrix = np.ones((x*k_factor, y*k_factor))\n",
    "    \n",
    "    # update super matrix with previous values from the low resolution image\n",
    "    for i in range(x):\n",
    "        for j in range(y):\n",
    "            super_matrix[i*k][j*k] = matrix[i][j]\n",
    "    \n",
    "    return super_matrix"
   ]
  },
  {
   "cell_type": "code",
   "execution_count": 15,
   "metadata": {},
   "outputs": [],
   "source": [
    "def reinitialize_max_pool(matrix, super_matrix, k = 2):\n",
    "    # reinitializing neigbors from one to max value\n",
    "    x_old, y_old = matrix.shape\n",
    "    x_new, y_new = super_matrix.shape\n",
    "    \n",
    "    if k == 2:\n",
    "        for i in range(x_old):\n",
    "            for j in range(y_old):\n",
    "                a,b = i*k, j*k\n",
    "                #for every pixel map in low resolution image format\n",
    "                #map new resolution image with its neighbor as max pool\n",
    "                super_matrix[a-1][b-1] = matrix[i][j]\n",
    "                super_matrix[a-1][b] = matrix[i][j]\n",
    "                super_matrix[a][b-1] = matrix[i][j]\n",
    "                super_matrix[a][b] = matrix[i][j]\n",
    "                \n",
    "    elif k == 3:\n",
    "        for i in range(x_old):\n",
    "            for j in range(y_old):\n",
    "                a,b = i*k, j*k\n",
    "                #for every pixel map in low resolution image format\n",
    "                #map new resolution image with its neighbor as max pool\n",
    "                super_matrix[a-2][b-2] = matrix[i][j]\n",
    "                super_matrix[a-2][b-1] = matrix[i][j]\n",
    "                super_matrix[a-2][b] = matrix[i][j]\n",
    "                super_matrix[a-1][b-2] = matrix[i][j]\n",
    "                super_matrix[a-1][b-1] = matrix[i][j]\n",
    "                super_matrix[a-1][b] = matrix[i][j]\n",
    "                super_matrix[a][b-2] = matrix[i][j]\n",
    "                super_matrix[a][b-1] = matrix[i][j]\n",
    "                super_matrix[a][b] = matrix[i][j]\n",
    "                \n",
    "    else:\n",
    "        pass\n",
    "    return super_matrix\n"
   ]
  },
  {
   "cell_type": "code",
   "execution_count": 33,
   "metadata": {},
   "outputs": [
    {
     "name": "stdout",
     "output_type": "stream",
     "text": [
      "['11', '12', '13', '21', '22', '23', '31', '32']\n"
     ]
    }
   ],
   "source": [
    "def find_nearest(a,b, k = 2):\n",
    "    nearest = []\n",
    "    if k ==2:\n",
    "        for i in range(a-1,a+1):\n",
    "            for j in range(b-1,b+1):\n",
    "                string = str(i) + str(j)\n",
    "                if string in nearest:\n",
    "                    pass\n",
    "                else:\n",
    "                    nearest.append(string)\n",
    "    elif k== 3:\n",
    "        for i in range(a-2,a+1):\n",
    "            for j in range(b-2,b+1):\n",
    "                string = str(i) + str(j)\n",
    "                if string in nearest:\n",
    "                    pass\n",
    "                else:\n",
    "                    nearest.append(string)\n",
    "    else:\n",
    "        pass\n",
    "    return nearest[:-1]\n",
    "\n",
    "a = find_nearest(3,3,k=3)\n",
    "print(a)"
   ]
  },
  {
   "cell_type": "code",
   "execution_count": 34,
   "metadata": {},
   "outputs": [],
   "source": [
    "def interpolate_neurons(matrix, super_matrix):\n",
    "    \"\"\"\n",
    "     maps original pixel number to output matrix to be interpolated\n",
    "     if c is the number of inputs to be interpolated which is m *n (dimension)\n",
    "     and k is the magnification factor then\n",
    "     output number is mn((k**2)-1) to be mapped\n",
    "    \"\"\"\n",
    "    x, y = matrix.shape\n",
    "    input_flatten = []\n",
    "    output_flatten = []\n",
    "    if k == 2:\n",
    "        for a in range(x):\n",
    "            for b in range(y):\n",
    "                string = str(a) + str(b)\n",
    "                input_flatten.append(super_matrix[a][b])\n",
    "                output_flatten.extend([super_matrix[k[0]][k[1]] for k in find_nearest(a,b,k=2)])\n",
    "    elif k==3:\n",
    "        for a in range(x):\n",
    "            for b in range(y):\n",
    "                string = str(a) + str(b)\n",
    "                input_flatten.append(super_matrix[a][b])\n",
    "                output_flatten.extend([super_matrix[k[0]][k[1]] for k in find_nearest(a,b,k=2)])\n",
    "    else:\n",
    "        pass\n",
    "    \n",
    "    \n",
    "    return input_flatten, output_flatten"
   ]
  },
  {
   "cell_type": "code",
   "execution_count": null,
   "metadata": {},
   "outputs": [],
   "source": []
  }
 ],
 "metadata": {
  "kernelspec": {
   "display_name": "Python 3",
   "language": "python",
   "name": "python3"
  },
  "language_info": {
   "codemirror_mode": {
    "name": "ipython",
    "version": 3
   },
   "file_extension": ".py",
   "mimetype": "text/x-python",
   "name": "python",
   "nbconvert_exporter": "python",
   "pygments_lexer": "ipython3",
   "version": "3.7.3"
  }
 },
 "nbformat": 4,
 "nbformat_minor": 2
}
