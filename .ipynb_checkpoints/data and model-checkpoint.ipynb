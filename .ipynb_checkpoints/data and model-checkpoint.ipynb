{
 "cells": [
  {
   "cell_type": "code",
   "execution_count": 1,
   "metadata": {},
   "outputs": [],
   "source": [
    "import os, sys\n",
    "import numpy as np\n",
    "import scipy as sp\n",
    "import pandas as pd\n",
    "import re"
   ]
  },
  {
   "cell_type": "code",
   "execution_count": 2,
   "metadata": {},
   "outputs": [
    {
     "data": {
      "text/plain": [
       "'/home/odemakinde/Desktop/super-resolutor-master/data_source'"
      ]
     },
     "execution_count": 2,
     "metadata": {},
     "output_type": "execute_result"
    }
   ],
   "source": [
    "os.getcwd()"
   ]
  },
  {
   "cell_type": "code",
   "execution_count": 3,
   "metadata": {},
   "outputs": [
    {
     "data": {
      "text/plain": [
       "['image_to_data.py',\n",
       " 'Superman vs Justice League _ Justice League (4k. HDR)(1).mp4',\n",
       " 'Superman vs Justice League _ Justice League (4k. HDR).mp4',\n",
       " 'data and model.ipynb',\n",
       " '.ipynb_checkpoints',\n",
       " 'Data_sourcing.ipynb',\n",
       " 'train_data']"
      ]
     },
     "execution_count": 3,
     "metadata": {},
     "output_type": "execute_result"
    }
   ],
   "source": [
    "os.listdir()"
   ]
  },
  {
   "cell_type": "code",
   "execution_count": 4,
   "metadata": {},
   "outputs": [],
   "source": [
    "os.chdir('/home/odemakinde/Desktop/super-resolutor-master/data_source/train_data')"
   ]
  },
  {
   "cell_type": "code",
   "execution_count": 5,
   "metadata": {},
   "outputs": [
    {
     "name": "stdout",
     "output_type": "stream",
     "text": [
      "/home/odemakinde/Desktop/super-resolutor-master/data_source/train_data\n"
     ]
    }
   ],
   "source": [
    "train_data_dir = os.getcwd()\n",
    "print(train_data_dir)"
   ]
  },
  {
   "cell_type": "code",
   "execution_count": 6,
   "metadata": {},
   "outputs": [
    {
     "data": {
      "text/plain": [
       "['low resolution', 'high resolution']"
      ]
     },
     "execution_count": 6,
     "metadata": {},
     "output_type": "execute_result"
    }
   ],
   "source": [
    "directories = os.listdir()\n",
    "directories"
   ]
  },
  {
   "cell_type": "code",
   "execution_count": 7,
   "metadata": {},
   "outputs": [],
   "source": [
    "low_list, high_list = [],[]\n",
    "os.chdir(train_data_dir + '/low resolution')\n",
    "low_list = os.listdir()\n",
    "os.chdir(train_data_dir + '/high resolution')\n",
    "high_list = os.listdir()\n",
    "os.chdir(train_data_dir)\n"
   ]
  },
  {
   "cell_type": "code",
   "execution_count": 8,
   "metadata": {},
   "outputs": [
    {
     "data": {
      "text/plain": [
       "(429, 429)"
      ]
     },
     "execution_count": 8,
     "metadata": {},
     "output_type": "execute_result"
    }
   ],
   "source": [
    "len(low_list), len(high_list)"
   ]
  },
  {
   "cell_type": "markdown",
   "metadata": {},
   "source": [
    "# image dimension k =2 "
   ]
  },
  {
   "cell_type": "code",
   "execution_count": 9,
   "metadata": {},
   "outputs": [
    {
     "name": "stdout",
     "output_type": "stream",
     "text": [
      "/home/odemakinde/Desktop/super-resolutor-master/data_source/train_data/low resolution/low_resolution_frame1900.jpg\n",
      "/home/odemakinde/Desktop/super-resolutor-master/data_source/train_data/low resolution/low_resolution_gray1900.jpg\n",
      "/home/odemakinde/Desktop/super-resolutor-master/data_source/train_data/low resolution/low_resolution_rgb1900.jpg\n"
     ]
    }
   ],
   "source": [
    "#low resolution\n",
    "next_dir = train_data_dir + '/low resolution'+ '/' + low_list[1]\n",
    "next_two = next_dir[:-12] + 'frame1900.jpg'\n",
    "next_three = next_dir[:-12] + 'rgb1900.jpg'\n",
    "print(next_two)\n",
    "print(next_dir)\n",
    "print(next_three)"
   ]
  },
  {
   "cell_type": "code",
   "execution_count": 10,
   "metadata": {},
   "outputs": [
    {
     "name": "stdout",
     "output_type": "stream",
     "text": [
      "/home/odemakinde/Desktop/super-resolutor-master/data_source/train_data/high resolution/high_resolution_rgb6350.jpg\n",
      "/home/odemakinde/Desktop/super-resolutor-master/data_source/train_data/high resolution/high_resolution_frame6350.jpg\n",
      "/home/odemakinde/Desktop/super-resolutor-master/data_source/train_data/high resolution/high_resolution_rgb6350.jpg\n"
     ]
    }
   ],
   "source": [
    "# high resolution\n",
    "high_one = train_data_dir + '/high resolution'+ '/' + high_list[1]\n",
    "high_two = high_one[:-12] + '_frame6350.jpg'\n",
    "high_three = high_one[:-12] + '_rgb6350.jpg'\n",
    "print(high_one)\n",
    "print(high_two)\n",
    "print(high_three)"
   ]
  },
  {
   "cell_type": "code",
   "execution_count": 11,
   "metadata": {},
   "outputs": [
    {
     "name": "stdout",
     "output_type": "stream",
     "text": [
      "(360, 640, 3)\n",
      "(360, 640, 3)\n",
      "(360, 640, 3)\n"
     ]
    }
   ],
   "source": [
    "# low resolution\n",
    "import cv2\n",
    "import numpy as np\n",
    "im = cv2.imread(next_two)#frame\n",
    "im_one = cv2.imread(next_dir)#gray\n",
    "im_two = cv2.imread(next_three)#rgb\n",
    "im_array = np.asarray(im)#frame\n",
    "im_array1 = np.asarray(im_one)#gray\n",
    "im_array2 = np.asarray(im_two)#rgb\n",
    "print(im_array.shape)\n",
    "print(im_array1.shape)\n",
    "print(im_array2.shape)\n",
    "#cv2.imshow('image', im)\n",
    "#cv2.waitKey(0)\n",
    "#cv2.destroyAllWindows()\n"
   ]
  },
  {
   "cell_type": "code",
   "execution_count": 12,
   "metadata": {},
   "outputs": [
    {
     "name": "stdout",
     "output_type": "stream",
     "text": [
      "(720, 1280, 3)\n",
      "(720, 1280, 3)\n",
      "(720, 1280, 3)\n"
     ]
    }
   ],
   "source": [
    "# high resolution\n",
    "import cv2\n",
    "import numpy as np\n",
    "im = cv2.imread(high_one)#gray\n",
    "im_one = cv2.imread(high_two)#frame\n",
    "im_two = cv2.imread(high_three)#rgb\n",
    "im_array = np.asarray(im)#gray\n",
    "im_array1 = np.asarray(im_one)#frame\n",
    "im_array2 = np.asarray(im_two)#rgb\n",
    "print(im_array.shape)\n",
    "print(im_array1.shape)\n",
    "print(im_array2.shape)\n",
    "#cv2.imshow('image', im)\n",
    "#cv2.waitKey(0)\n",
    "#cv2.destroyAllWindows()\n"
   ]
  },
  {
   "cell_type": "code",
   "execution_count": 13,
   "metadata": {},
   "outputs": [
    {
     "data": {
      "text/plain": [
       "'2000'"
      ]
     },
     "execution_count": 13,
     "metadata": {},
     "output_type": "execute_result"
    }
   ],
   "source": [
    "import re\n",
    "def get_number(directory):\n",
    "    # Remove anything other than digits\n",
    "    num = re.sub(r'\\D', \"\", directory)    \n",
    "    return num\n",
    "\n",
    "get_number('low_resolution_rgb_2000.jpg')"
   ]
  },
  {
   "cell_type": "code",
   "execution_count": 14,
   "metadata": {},
   "outputs": [
    {
     "data": {
      "text/plain": [
       "True"
      ]
     },
     "execution_count": 14,
     "metadata": {},
     "output_type": "execute_result"
    }
   ],
   "source": [
    "'high_resolution_rgb2000.jpg' in high_list"
   ]
  },
  {
   "cell_type": "code",
   "execution_count": 15,
   "metadata": {},
   "outputs": [
    {
     "name": "stdout",
     "output_type": "stream",
     "text": [
      "(720, 1280, 3)\n"
     ]
    },
    {
     "data": {
      "text/plain": [
       "((720, 1280), (720, 1280), (720, 1280))"
      ]
     },
     "execution_count": 15,
     "metadata": {},
     "output_type": "execute_result"
    }
   ],
   "source": [
    "img = cv2.imread('/home/odemakinde/Desktop/super-resolutor-master/data_source/train_data/high resolution/high_resolution_rgb2000.jpg')\n",
    "array = np.asarray(img)\n",
    "print(array.shape)\n",
    "array_one, array_two , array_three = array[:,:,0], array[:,:,1], array[:,:,2]\n",
    "array_one.shape, array_two.shape, array_three.shape"
   ]
  },
  {
   "cell_type": "code",
   "execution_count": 16,
   "metadata": {},
   "outputs": [
    {
     "data": {
      "text/plain": [
       "720"
      ]
     },
     "execution_count": 16,
     "metadata": {},
     "output_type": "execute_result"
    }
   ],
   "source": [
    "len(array_one)"
   ]
  },
  {
   "cell_type": "code",
   "execution_count": 63,
   "metadata": {},
   "outputs": [
    {
     "name": "stdout",
     "output_type": "stream",
     "text": [
      "()\n"
     ]
    },
    {
     "ename": "IndexError",
     "evalue": "too many indices for array",
     "output_type": "error",
     "traceback": [
      "\u001b[0;31m---------------------------------------------------------------------------\u001b[0m",
      "\u001b[0;31mIndexError\u001b[0m                                Traceback (most recent call last)",
      "\u001b[0;32m<ipython-input-63-907e1eaf8be2>\u001b[0m in \u001b[0;36m<module>\u001b[0;34m\u001b[0m\n\u001b[1;32m     24\u001b[0m         \u001b[0mlow_array\u001b[0m \u001b[0;34m=\u001b[0m \u001b[0mnp\u001b[0m\u001b[0;34m.\u001b[0m\u001b[0masarray\u001b[0m\u001b[0;34m(\u001b[0m\u001b[0mlow_img\u001b[0m\u001b[0;34m)\u001b[0m\u001b[0;34m\u001b[0m\u001b[0;34m\u001b[0m\u001b[0m\n\u001b[1;32m     25\u001b[0m         \u001b[0mprint\u001b[0m\u001b[0;34m(\u001b[0m\u001b[0mlow_array\u001b[0m\u001b[0;34m.\u001b[0m\u001b[0mshape\u001b[0m\u001b[0;34m)\u001b[0m\u001b[0;34m\u001b[0m\u001b[0;34m\u001b[0m\u001b[0m\n\u001b[0;32m---> 26\u001b[0;31m         \u001b[0mlow_array_one\u001b[0m\u001b[0;34m,\u001b[0m \u001b[0mlow_array_two\u001b[0m\u001b[0;34m,\u001b[0m \u001b[0mlow_array_three\u001b[0m \u001b[0;34m=\u001b[0m \u001b[0mlow_array\u001b[0m\u001b[0;34m[\u001b[0m\u001b[0;34m:\u001b[0m\u001b[0;34m,\u001b[0m\u001b[0;34m:\u001b[0m\u001b[0;34m,\u001b[0m\u001b[0;36m0\u001b[0m\u001b[0;34m]\u001b[0m\u001b[0;34m,\u001b[0m \u001b[0mlow_array\u001b[0m\u001b[0;34m[\u001b[0m\u001b[0;34m:\u001b[0m\u001b[0;34m,\u001b[0m\u001b[0;34m:\u001b[0m\u001b[0;34m,\u001b[0m\u001b[0;36m1\u001b[0m\u001b[0;34m]\u001b[0m\u001b[0;34m,\u001b[0m \u001b[0mlow_array\u001b[0m\u001b[0;34m[\u001b[0m\u001b[0;34m:\u001b[0m\u001b[0;34m,\u001b[0m\u001b[0;34m:\u001b[0m\u001b[0;34m,\u001b[0m\u001b[0;36m2\u001b[0m\u001b[0;34m]\u001b[0m\u001b[0;34m\u001b[0m\u001b[0;34m\u001b[0m\u001b[0m\n\u001b[0m\u001b[1;32m     27\u001b[0m \u001b[0;34m\u001b[0m\u001b[0m\n\u001b[1;32m     28\u001b[0m \u001b[0;34m\u001b[0m\u001b[0m\n",
      "\u001b[0;31mIndexError\u001b[0m: too many indices for array"
     ]
    }
   ],
   "source": [
    "input_num, one_one, one_two, two_one,two_two = [],[],[],[],[]\n",
    "for i in low_list[:2]:\n",
    "    get_num = get_number(i)\n",
    "    if isinstance(int(get_num),int):\n",
    "        try:\n",
    "            if 'gray' in i:\n",
    "                string_val = 'high_resolution_gray'+str(get_num)+'.jpg'\n",
    "            elif 'rgb' in i:\n",
    "                string_val = 'high_resolution_rgb'+ str(get_num) + '.jpg'\n",
    "            else:\n",
    "                string_val = 'high_resolution_frame'+str(get_num) + '.jpg'\n",
    "        except (ValueError,keyError) as err:\n",
    "            continue\n",
    "    else:\n",
    "        pass\n",
    "    \n",
    "    # get image\n",
    "    high_current_dir = train_data_dir + '/high resolution'+'/'+string_val\n",
    "    low_current_dir = train_data_dir + '/low resolution'+'/'+string_val\n",
    "    if string_val in high_list:\n",
    "        #proceed with data extraction\n",
    "        # read in corresponding low image resolution\n",
    "        low_img = cv2.imread(low_current_dir)\n",
    "        low_array = np.asarray(low_img)\n",
    "        print(low_array.shape)\n",
    "        low_array_one, low_array_two, low_array_three = low_array[:,:,0], low_array[:,:,1], low_array[:,:,2]\n",
    "        \n",
    "        \n",
    "        #read in corresponding high image resolution\n",
    "        high_img = cv2.imread(high_current_dir)\n",
    "        high_array = np.asarray(high_img)\n",
    "        high_array_one, high_array_two, high_array_three = high_array[:,:,0], high_array[:,:,1], high_array[:,:,2]\n",
    "        \n",
    "        for i in low_array_one:\n",
    "            for j in i:\n",
    "                input_one.append(low_array_one[i][j])\n",
    "                one_one.append(high_array_one[i-1][j-1])\n",
    "                one_two.append(high_array_one[i-1][j])\n",
    "                two_one.append(high_array_one[i][j-1])\n",
    "                two_two.append(high_array_one[i][j])\n",
    "        for i in low_array_two:\n",
    "            for j in i:\n",
    "                input_one.append(low_array_two[i][j])\n",
    "                one_one.append(high_array_two[i-1][j-1])\n",
    "                one_two.append(high_array_two[i-1][j])\n",
    "                two_one.append(high_array_two[i][j-1])\n",
    "                two_two.append(high_array_two[i][j])\n",
    "        for i in low_array_three:\n",
    "            for j in i:\n",
    "                input_one.append(low_array_three[i][j])\n",
    "                one_one.append(high_array_three[i-1][j-1])\n",
    "                one_two.append(high_array_three[i-1][j])\n",
    "                two_one.append(high_array_three[i][j-1])\n",
    "                two_two.append(high_array_three[i][j])\n",
    "        \n",
    "        \n",
    "    else:\n",
    "        pass"
   ]
  },
  {
   "cell_type": "code",
   "execution_count": null,
   "metadata": {},
   "outputs": [],
   "source": [
    "def fetech(dir_one, dir_two):\n",
    "    inp = cv2.imread(dir_one)\n",
    "    out = cv2.imread(dir_two)\n",
    "    \n",
    "    return a,b,c,d,e"
   ]
  },
  {
   "cell_type": "code",
   "execution_count": null,
   "metadata": {},
   "outputs": [],
   "source": [
    "arr_one = []\n",
    "arr_out_one = []\n",
    "arr_out_two = []\n",
    "arr_out_three = []\n",
    "arr_out_four = []\n",
    "\n",
    "os.chdir(train_data_dir)\n",
    "# to low resolution dir first\n",
    "for k in low_list:\n",
    "    next_dir = train_data_dir + '/low resolution'+ '/' + k\n",
    "    img = cv2.imread(next_dir)\n",
    "    array_image = np.asarray(img)"
   ]
  }
 ],
 "metadata": {
  "kernelspec": {
   "display_name": "Python 3",
   "language": "python",
   "name": "python3"
  },
  "language_info": {
   "codemirror_mode": {
    "name": "ipython",
    "version": 3
   },
   "file_extension": ".py",
   "mimetype": "text/x-python",
   "name": "python",
   "nbconvert_exporter": "python",
   "pygments_lexer": "ipython3",
   "version": "3.7.4"
  }
 },
 "nbformat": 4,
 "nbformat_minor": 4
}
