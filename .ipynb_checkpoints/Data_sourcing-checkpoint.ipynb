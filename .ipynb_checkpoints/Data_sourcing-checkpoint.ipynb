{
 "cells": [
  {
   "cell_type": "markdown",
   "metadata": {
    "colab_type": "text",
    "id": "view-in-github"
   },
   "source": [
    "<a href=\"https://colab.research.google.com/github/elishatofunmi/super-resolutor/blob/master/Data_sourcing.ipynb\" target=\"_parent\"><img src=\"https://colab.research.google.com/assets/colab-badge.svg\" alt=\"Open In Colab\"/></a>"
   ]
  },
  {
   "cell_type": "code",
   "execution_count": 1,
   "metadata": {
    "colab": {},
    "colab_type": "code",
    "id": "NiJ-NJWAJ0vi"
   },
   "outputs": [],
   "source": [
    "import cv2\n",
    "import numpy as np"
   ]
  },
  {
   "cell_type": "code",
   "execution_count": 2,
   "metadata": {
    "colab": {
     "base_uri": "https://localhost:8080/",
     "height": 34
    },
    "colab_type": "code",
    "id": "pcc4efHhKCHW",
    "outputId": "e2d8f666-777c-477d-f393-b63c8c54260b"
   },
   "outputs": [
    {
     "data": {
      "text/plain": [
       "'/home/odemakinde/Desktop/super-resolutor-master/data_source'"
      ]
     },
     "execution_count": 2,
     "metadata": {},
     "output_type": "execute_result"
    }
   ],
   "source": [
    "import os\n",
    "os.getcwd()"
   ]
  },
  {
   "cell_type": "code",
   "execution_count": 3,
   "metadata": {
    "colab": {
     "base_uri": "https://localhost:8080/",
     "height": 34
    },
    "colab_type": "code",
    "id": "b2Gi2VgYN-tT",
    "outputId": "d9edb46a-46f1-4974-9959-b5b443a4b421"
   },
   "outputs": [
    {
     "data": {
      "text/plain": [
       "['image_to_data.py',\n",
       " 'Superman vs Justice League _ Justice League (4k. HDR)(1).mp4',\n",
       " 'Superman vs Justice League _ Justice League (4k. HDR).mp4',\n",
       " \"Aaron Spears - 'Caught Up' by Usher - UK DRUM SHOW 2019.webm\",\n",
       " 'data',\n",
       " '.ipynb_checkpoints',\n",
       " 'Data_sourcing.ipynb']"
      ]
     },
     "execution_count": 3,
     "metadata": {},
     "output_type": "execute_result"
    }
   ],
   "source": [
    "os.listdir()"
   ]
  },
  {
   "cell_type": "code",
   "execution_count": 4,
   "metadata": {
    "colab": {},
    "colab_type": "code",
    "id": "UWOHNrIJKXgJ"
   },
   "outputs": [],
   "source": [
    "high_resolution = cv2.VideoCapture(\"Superman vs Justice League _ Justice League (4k. HDR)(1).mp4\")\n",
    "low_resolution = cv2.VideoCapture(\"Superman vs Justice League _ Justice League (4k. HDR).mp4\")"
   ]
  },
  {
   "cell_type": "code",
   "execution_count": 5,
   "metadata": {
    "colab": {
     "base_uri": "https://localhost:8080/",
     "height": 109
    },
    "colab_type": "code",
    "id": "Ei8IzynMbh5v",
    "outputId": "cf03cf8c-38fc-47ec-f937-8f09f009ffe4"
   },
   "outputs": [
    {
     "data": {
      "text/plain": [
       "['image_to_data.py',\n",
       " 'Superman vs Justice League _ Justice League (4k. HDR)(1).mp4',\n",
       " 'Superman vs Justice League _ Justice League (4k. HDR).mp4',\n",
       " \"Aaron Spears - 'Caught Up' by Usher - UK DRUM SHOW 2019.webm\",\n",
       " 'data',\n",
       " '.ipynb_checkpoints',\n",
       " 'Data_sourcing.ipynb']"
      ]
     },
     "execution_count": 5,
     "metadata": {},
     "output_type": "execute_result"
    }
   ],
   "source": [
    "os.listdir()"
   ]
  },
  {
   "cell_type": "code",
   "execution_count": 6,
   "metadata": {},
   "outputs": [
    {
     "data": {
      "text/plain": [
       "'/home/odemakinde/Desktop/super-resolutor-master/data_source'"
      ]
     },
     "execution_count": 6,
     "metadata": {},
     "output_type": "execute_result"
    }
   ],
   "source": [
    "os.getcwd()"
   ]
  },
  {
   "cell_type": "code",
   "execution_count": 7,
   "metadata": {},
   "outputs": [],
   "source": [
    "\n",
    "os.mkdir('train_data')\n",
    "os.chdir('/home/odemakinde/Desktop/super-resolutor-master/data_source/train_data')\n",
    "os.mkdir('low resolution')\n",
    "os.chdir('/home/odemakinde/Desktop/super-resolutor-master/data_source/train_data/low resolution')"
   ]
  },
  {
   "cell_type": "code",
   "execution_count": 8,
   "metadata": {},
   "outputs": [
    {
     "data": {
      "text/plain": [
       "'/home/odemakinde/Desktop/super-resolutor-master/data_source/train_data/low resolution'"
      ]
     },
     "execution_count": 8,
     "metadata": {},
     "output_type": "execute_result"
    }
   ],
   "source": [
    "os.getcwd()"
   ]
  },
  {
   "cell_type": "code",
   "execution_count": 9,
   "metadata": {},
   "outputs": [
    {
     "data": {
      "application/vnd.jupyter.widget-view+json": {
       "model_id": "4b88a99b8dd646c0af5f17492057a923",
       "version_major": 2,
       "version_minor": 0
      },
      "text/plain": [
       "HBox(children=(IntProgress(value=1, bar_style='info', max=1), HTML(value='')))"
      ]
     },
     "metadata": {},
     "output_type": "display_data"
    },
    {
     "name": "stdout",
     "output_type": "stream",
     "text": [
      "\n"
     ]
    },
    {
     "name": "stderr",
     "output_type": "stream",
     "text": [
      "/home/odemakinde/anaconda3/lib/python3.7/site-packages/tqdm/std.py:648: FutureWarning: The Panel class is removed from pandas. Accessing it from the top-level namespace will also be removed in the next version\n",
      "  from pandas import Panel\n"
     ]
    }
   ],
   "source": [
    "import tqdm\n",
    "from tqdm import tqdm_notebook as tqdm\n",
    "tqdm().pandas()"
   ]
  },
  {
   "cell_type": "code",
   "execution_count": null,
   "metadata": {},
   "outputs": [],
   "source": [
    "cap = low_resolution\n",
    "i = 0\n",
    "while (cap.isOpened()):\n",
    "    ret, frame = cap.read()\n",
    "    if ret == True and i%50== 0:\n",
    "        gray = cv2.cvtColor(frame, cv2.COLOR_BGR2GRAY)\n",
    "        rgb = cv2.cvtColor(frame, cv2.COLOR_BGR2RGB)\n",
    "\n",
    "        cv2.imwrite('low_resolution_gray'+str(i)+'.jpg',gray)\n",
    "        cv2.imwrite('low_resolution_rgb'+str(i)+'.jpg',rgb)\n",
    "        cv2.imwrite('low_resolution_frame'+str(i)+'.jpg',frame)\n",
    "    else:\n",
    "        pass\n",
    "    i += 1\n",
    "    if cv2.waitKey(1) & 0xFF == ord('q'):\n",
    "        print(i)\n",
    "        break\n",
    "        \n",
    "    \n",
    "cap.release()\n",
    "cv2.destroyAllWindows()"
   ]
  },
  {
   "cell_type": "code",
   "execution_count": null,
   "metadata": {},
   "outputs": [],
   "source": [
    "os.chdir('/home/odemakinde/Desktop/super-resolutor-master/data_source/train_data')\n",
    "os.mkdir('high resolution')\n",
    "os.chdir('/home/odemakinde/Desktop/super-resolutor-master/data_source/train_data/high resolution')"
   ]
  },
  {
   "cell_type": "code",
   "execution_count": null,
   "metadata": {},
   "outputs": [],
   "source": [
    "cap = high_resolution\n",
    "i = 0\n",
    "while (cap.isOpened()):\n",
    "    ret, frame = cap.read()\n",
    "    if ret == True and i%50== 0:\n",
    "        gray = cv2.cvtColor(frame, cv2.COLOR_BGR2GRAY)\n",
    "        rgb = cv2.cvtColor(frame, cv2.COLOR_BGR2RGB)\n",
    "\n",
    "        cv2.imwrite('high_resolution_gray'+str(i)+'.jpg',gray)\n",
    "        cv2.imwrite('high_resolution_rgb'+str(i)+'.jpg',rgb)\n",
    "        cv2.imwrite('high_resolution_frame'+str(i)+'.jpg',frame)\n",
    "    else:\n",
    "        pass\n",
    "    i += 1\n",
    "    if cv2.waitKey(1) & 0xFF == ord('q'):\n",
    "        print(i)\n",
    "        break\n",
    "        \n",
    "    \n",
    "cap.release()\n",
    "cv2.destroyAllWindows()"
   ]
  },
  {
   "cell_type": "code",
   "execution_count": null,
   "metadata": {},
   "outputs": [],
   "source": []
  }
 ],
 "metadata": {
  "accelerator": "GPU",
  "colab": {
   "authorship_tag": "ABX9TyOSMriSHTuExG3FdP/Kdtbt",
   "include_colab_link": true,
   "name": "Data sourcing.ipynb",
   "provenance": []
  },
  "kernelspec": {
   "display_name": "Python 3",
   "language": "python",
   "name": "python3"
  },
  "language_info": {
   "codemirror_mode": {
    "name": "ipython",
    "version": 3
   },
   "file_extension": ".py",
   "mimetype": "text/x-python",
   "name": "python",
   "nbconvert_exporter": "python",
   "pygments_lexer": "ipython3",
   "version": "3.7.4"
  }
 },
 "nbformat": 4,
 "nbformat_minor": 4
}
