{
 "cells": [
  {
   "cell_type": "code",
   "execution_count": 1,
   "metadata": {},
   "outputs": [],
   "source": [
    "import numpy as np\n",
    "import cv2\n",
    "import os, sys"
   ]
  },
  {
   "cell_type": "code",
   "execution_count": 2,
   "metadata": {},
   "outputs": [],
   "source": [
    "# read image \n",
    "\n",
    "img = cv2.imread('14085.jpg', cv2.IMREAD_UNCHANGED)\n",
    "#cv2.imshow(\"image\", img)\n",
    "#cv2.waitKey(0)"
   ]
  },
  {
   "cell_type": "code",
   "execution_count": 10,
   "metadata": {},
   "outputs": [
    {
     "data": {
      "text/plain": [
       "((321, 481, 3), (160, 240, 3))"
      ]
     },
     "execution_count": 10,
     "metadata": {},
     "output_type": "execute_result"
    }
   ],
   "source": [
    "# resize image\n",
    "img = cv2.imread('14085.jpg', cv2.IMREAD_UNCHANGED)\n",
    "dim = img.shape\n",
    "img_reshape = cv2.resize(img, (int(dim[1]/2), int(dim[0]/2)))\n",
    "dim, img_reshape.shape"
   ]
  },
  {
   "cell_type": "code",
   "execution_count": 13,
   "metadata": {},
   "outputs": [
    {
     "data": {
      "text/plain": [
       "True"
      ]
     },
     "execution_count": 13,
     "metadata": {},
     "output_type": "execute_result"
    }
   ],
   "source": [
    "cv2.imwrite('low_14085.jpg', img_reshape)"
   ]
  },
  {
   "cell_type": "code",
   "execution_count": 12,
   "metadata": {},
   "outputs": [
    {
     "data": {
      "text/plain": [
       "100"
      ]
     },
     "execution_count": 12,
     "metadata": {},
     "output_type": "execute_result"
    }
   ],
   "source": [
    "cv2.imshow('low_img', img_reshape)\n",
    "cv2.waitKey(0)"
   ]
  },
  {
   "cell_type": "markdown",
   "metadata": {},
   "source": [
    "# applying filter transformation to the low resolution image"
   ]
  },
  {
   "cell_type": "code",
   "execution_count": 18,
   "metadata": {},
   "outputs": [],
   "source": [
    "# Open an Image\n",
    "from PIL import Image\n",
    "def open_image(path):\n",
    "    newImage = Image.open(path)\n",
    "    return newImage\n",
    "\n",
    "# Save Image\n",
    "def save_image(image, path):\n",
    "    image.save(path, 'png')\n",
    "\n",
    "# Create a new image with the given size\n",
    "def create_image(i, j):\n",
    "    image = Image.new(\"RGB\", (i, j), \"white\")\n",
    "    return image\n"
   ]
  },
  {
   "cell_type": "code",
   "execution_count": 16,
   "metadata": {},
   "outputs": [],
   "source": [
    "# Get the pixel from the given image\n",
    "def get_pixel(image, i, j):\n",
    "    # Inside image bounds?\n",
    "    width, height = image.size\n",
    "    if i > width or j > height:\n",
    "        return None\n",
    "    else:\n",
    "        # Get Pixel\n",
    "        pixel = image.getpixel((i, j))\n",
    "        return pixel\n"
   ]
  },
  {
   "cell_type": "code",
   "execution_count": 36,
   "metadata": {},
   "outputs": [],
   "source": [
    "# Create a Half-tone version of the image\n",
    "def convert_halftoning(image):\n",
    "    # Get size\n",
    "    width, height = image.size\n",
    "\n",
    "    # Create new Image and a Pixel Map\n",
    "    new = np.zeros((width, height,3))\n",
    "\n",
    "    # Transform to half tones\n",
    "    for i in range(0, width, 2):\n",
    "        for j in range(0, height, 2):\n",
    "            # Get Pixels\n",
    "            p1 = get_pixel(image, i, j)\n",
    "            p2 = get_pixel(image, i, j + 1)\n",
    "            p3 = get_pixel(image, i + 1, j)\n",
    "            p4 = get_pixel(image, i + 1, j + 1)\n",
    "            \n",
    "\n",
    "               # Transform to grayscale\n",
    "            gray1 = (p1[0] * 0.299) + (p1[1] * 0.587) + (p1[2] * 0.114)\n",
    "            gray2 = (p2[0] * 0.299) + (p2[1] * 0.587) + (p2[2] * 0.114)\n",
    "            gray3 = (p3[0] * 0.299) + (p3[1] * 0.587) + (p3[2] * 0.114)\n",
    "            gray4 = (p4[0] * 0.299) + (p4[1] * 0.587) + (p4[2] * 0.114)\n",
    "\n",
    "            # Saturation Percentage\n",
    "            sat = (gray1 + gray2 + gray3 + gray4) / 4\n",
    "            \n",
    "\n",
    "           # Draw white/black depending on saturation\n",
    "            if sat > 223:\n",
    "                #pixels[i, j]= (255, 255, 255) # White\n",
    "                new[i][j] = (255,255,255)\n",
    "            elif sat > 159:\n",
    "                #pixels[i, j]= (255, 255, 255) # White\n",
    "                new[i][j] = (255,255,255)\n",
    "            elif sat > 95:\n",
    "                #pixels[i, j]= (255, 255, 255) # White\n",
    "                new[i][j] = (255,255,255)\n",
    "            elif sat > 32:\n",
    "                #pixels[i, j]= (0, 0, 0)       # Black\n",
    "                new[i][j] = (0,0,0)\n",
    "            else:\n",
    "                #pixels[i, j]= (0, 0, 0)       # Black\n",
    "                new[i][j] = (0,0,0)\n",
    "\n",
    "            # Return new image\n",
    "            return new"
   ]
  },
  {
   "cell_type": "code",
   "execution_count": 37,
   "metadata": {},
   "outputs": [
    {
     "data": {
      "text/plain": [
       "True"
      ]
     },
     "execution_count": 37,
     "metadata": {},
     "output_type": "execute_result"
    }
   ],
   "source": [
    "#img = cv2.imread('14085.jpg', cv2.IMREAD_UNCHANGED)\n",
    "img = open_image('14085.jpg')\n",
    "img_half = convert_halftoning(img)\n",
    "\n",
    "cv2.imwrite(\"low_half_toning_14085.jpg\", img_half)\n"
   ]
  },
  {
   "cell_type": "code",
   "execution_count": null,
   "metadata": {},
   "outputs": [],
   "source": []
  }
 ],
 "metadata": {
  "kernelspec": {
   "display_name": "Python 3",
   "language": "python",
   "name": "python3"
  },
  "language_info": {
   "codemirror_mode": {
    "name": "ipython",
    "version": 3
   },
   "file_extension": ".py",
   "mimetype": "text/x-python",
   "name": "python",
   "nbconvert_exporter": "python",
   "pygments_lexer": "ipython3",
   "version": "3.7.4"
  }
 },
 "nbformat": 4,
 "nbformat_minor": 4
}
