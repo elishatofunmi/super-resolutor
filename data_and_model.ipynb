{
  "nbformat": 4,
  "nbformat_minor": 0,
  "metadata": {
    "kernelspec": {
      "name": "python3",
      "display_name": "Python 3"
    },
    "language_info": {
      "codemirror_mode": {
        "name": "ipython",
        "version": 3
      },
      "file_extension": ".py",
      "mimetype": "text/x-python",
      "name": "python",
      "nbconvert_exporter": "python",
      "pygments_lexer": "ipython3",
      "version": "3.7.4"
    },
    "colab": {
      "name": "data and model.ipynb",
      "provenance": [],
      "toc_visible": true,
      "include_colab_link": true
    },
    "accelerator": "GPU"
  },
  "cells": [
    {
      "cell_type": "markdown",
      "metadata": {
        "id": "view-in-github",
        "colab_type": "text"
      },
      "source": [
        "<a href=\"https://colab.research.google.com/github/elishatofunmi/super-resolutor/blob/master/data_and_model.ipynb\" target=\"_parent\"><img src=\"https://colab.research.google.com/assets/colab-badge.svg\" alt=\"Open In Colab\"/></a>"
      ]
    },
    {
      "cell_type": "code",
      "metadata": {
        "id": "ezkQ_n_w6AL2",
        "colab_type": "code",
        "colab": {}
      },
      "source": [
        "import os, sys\n",
        "import numpy as np\n",
        "import scipy as sp\n",
        "import pandas as pd\n",
        "import re"
      ],
      "execution_count": 0,
      "outputs": []
    },
    {
      "cell_type": "code",
      "metadata": {
        "id": "XUu_Y3eT6AMJ",
        "colab_type": "code",
        "outputId": "043fca0c-15ba-4c68-8ff3-1af750e952dd",
        "colab": {
          "base_uri": "https://localhost:8080/",
          "height": 34
        }
      },
      "source": [
        "os.getcwd()"
      ],
      "execution_count": 0,
      "outputs": [
        {
          "output_type": "execute_result",
          "data": {
            "text/plain": [
              "'/content'"
            ]
          },
          "metadata": {
            "tags": []
          },
          "execution_count": 15
        }
      ]
    },
    {
      "cell_type": "code",
      "metadata": {
        "id": "3Gk0tS0m6AMb",
        "colab_type": "code",
        "outputId": "9d4fe149-2a78-4b70-86eb-95731b6ed1fa",
        "colab": {
          "base_uri": "https://localhost:8080/",
          "height": 34
        }
      },
      "source": [
        "'low resolution' in os.listdir(), 'high resolution' in os.listdir()"
      ],
      "execution_count": 0,
      "outputs": [
        {
          "output_type": "execute_result",
          "data": {
            "text/plain": [
              "(True, True)"
            ]
          },
          "metadata": {
            "tags": []
          },
          "execution_count": 17
        }
      ]
    },
    {
      "cell_type": "code",
      "metadata": {
        "id": "DaUaPUU56AMm",
        "colab_type": "code",
        "colab": {}
      },
      "source": [
        "#os.chdir('/home/odemakinde/Desktop/super-resolutor-master/data_source/train_data')"
      ],
      "execution_count": 0,
      "outputs": []
    },
    {
      "cell_type": "code",
      "metadata": {
        "id": "Ddk-VLaZ6AMy",
        "colab_type": "code",
        "outputId": "635cdd23-8b75-4d2c-97d8-cba35e1c0918",
        "colab": {
          "base_uri": "https://localhost:8080/",
          "height": 34
        }
      },
      "source": [
        "train_data_dir = os.getcwd()\n",
        "print(train_data_dir)"
      ],
      "execution_count": 0,
      "outputs": [
        {
          "output_type": "stream",
          "text": [
            "/content\n"
          ],
          "name": "stdout"
        }
      ]
    },
    {
      "cell_type": "code",
      "metadata": {
        "id": "-leM0sjr6AM9",
        "colab_type": "code",
        "outputId": "bc770756-9843-4a37-a1b8-c4a59e9f6906",
        "colab": {
          "base_uri": "https://localhost:8080/",
          "height": 34
        }
      },
      "source": [
        "directories = os.listdir()\n",
        "len(directories)"
      ],
      "execution_count": 0,
      "outputs": [
        {
          "output_type": "execute_result",
          "data": {
            "text/plain": [
              "5"
            ]
          },
          "metadata": {
            "tags": []
          },
          "execution_count": 20
        }
      ]
    },
    {
      "cell_type": "code",
      "metadata": {
        "id": "x2NCwL9f6ANG",
        "colab_type": "code",
        "colab": {}
      },
      "source": [
        "low_list, high_list = [],[]\n",
        "os.chdir(train_data_dir + '/low resolution')\n",
        "low_list = os.listdir()\n",
        "os.chdir(train_data_dir + '/high resolution')\n",
        "high_list = os.listdir()\n",
        "os.chdir(train_data_dir)\n"
      ],
      "execution_count": 0,
      "outputs": []
    },
    {
      "cell_type": "code",
      "metadata": {
        "id": "zlKZDXzS6ANN",
        "colab_type": "code",
        "outputId": "bbd342cb-f1b2-43f6-9039-afa4d6c43ff7",
        "colab": {
          "base_uri": "https://localhost:8080/",
          "height": 34
        }
      },
      "source": [
        "len(low_list), len(high_list)"
      ],
      "execution_count": 0,
      "outputs": [
        {
          "output_type": "execute_result",
          "data": {
            "text/plain": [
              "(429, 429)"
            ]
          },
          "metadata": {
            "tags": []
          },
          "execution_count": 22
        }
      ]
    },
    {
      "cell_type": "markdown",
      "metadata": {
        "id": "bafKw5lM6ANX",
        "colab_type": "text"
      },
      "source": [
        "# image dimension k =2 "
      ]
    },
    {
      "cell_type": "code",
      "metadata": {
        "id": "BePMKnzN6ANb",
        "colab_type": "code",
        "outputId": "acd55adc-f910-4cb4-e56d-8259de65143f",
        "colab": {
          "base_uri": "https://localhost:8080/",
          "height": 69
        }
      },
      "source": [
        "#low resolution\n",
        "next_dir = train_data_dir + '/low resolution'+ '/' + low_list[1]\n",
        "next_two = next_dir[:-12] + 'frame1900.jpg'\n",
        "next_three = next_dir[:-12] + 'rgb1900.jpg'\n",
        "print(next_two)\n",
        "print(next_dir)\n",
        "print(next_three)"
      ],
      "execution_count": 0,
      "outputs": [
        {
          "output_type": "stream",
          "text": [
            "/content/low resolution/low_resolution_frame1900.jpg\n",
            "/content/low resolution/low_resolution_gray1600.jpg\n",
            "/content/low resolution/low_resolution_rgb1900.jpg\n"
          ],
          "name": "stdout"
        }
      ]
    },
    {
      "cell_type": "code",
      "metadata": {
        "id": "2iOUflCm6ANm",
        "colab_type": "code",
        "outputId": "2912d0bc-e709-434c-dd47-2fe983e0bee7",
        "colab": {
          "base_uri": "https://localhost:8080/",
          "height": 69
        }
      },
      "source": [
        "# high resolution\n",
        "high_one = train_data_dir + '/high resolution'+ '/' + high_list[1]\n",
        "high_two = high_one[:-12] + '_frame6350.jpg'\n",
        "high_three = high_one[:-12] + '_rgb6350.jpg'\n",
        "print(high_one)\n",
        "print(high_two)\n",
        "print(high_three)"
      ],
      "execution_count": 0,
      "outputs": [
        {
          "output_type": "stream",
          "text": [
            "/content/high resolution/high_resolution_gray200.jpg\n",
            "/content/high resolution/high_resolution_frame6350.jpg\n",
            "/content/high resolution/high_resolution_rgb6350.jpg\n"
          ],
          "name": "stdout"
        }
      ]
    },
    {
      "cell_type": "code",
      "metadata": {
        "id": "vDA0XHk26AN4",
        "colab_type": "code",
        "outputId": "1d4103ed-e7cf-4ccf-9647-1ce21a75aef5",
        "colab": {
          "base_uri": "https://localhost:8080/",
          "height": 69
        }
      },
      "source": [
        "# low resolution\n",
        "import cv2\n",
        "import numpy as np\n",
        "im = cv2.imread(next_two)#frame\n",
        "im_one = cv2.imread(next_dir)#gray\n",
        "im_two = cv2.imread(next_three)#rgb\n",
        "im_array = np.asarray(im)#frame\n",
        "im_array1 = np.asarray(im_one)#gray\n",
        "im_array2 = np.asarray(im_two)#rgb\n",
        "print(im_array.shape)\n",
        "print(im_array1.shape)\n",
        "print(im_array2.shape)\n",
        "#cv2.imshow('image', im)\n",
        "#cv2.waitKey(0)\n",
        "#cv2.destroyAllWindows()\n"
      ],
      "execution_count": 0,
      "outputs": [
        {
          "output_type": "stream",
          "text": [
            "(360, 640, 3)\n",
            "(360, 640, 3)\n",
            "(360, 640, 3)\n"
          ],
          "name": "stdout"
        }
      ]
    },
    {
      "cell_type": "code",
      "metadata": {
        "id": "amXQvDaT6AOE",
        "colab_type": "code",
        "outputId": "6b9d0a6e-587f-48e2-ea52-1586a3db560f",
        "colab": {
          "base_uri": "https://localhost:8080/",
          "height": 69
        }
      },
      "source": [
        "# high resolution\n",
        "import cv2\n",
        "import numpy as np\n",
        "im = cv2.imread(high_one)#gray\n",
        "im_one = cv2.imread(high_two)#frame\n",
        "im_two = cv2.imread(high_three)#rgb\n",
        "im_array = np.asarray(im)#gray\n",
        "im_array1 = np.asarray(im_one)#frame\n",
        "im_array2 = np.asarray(im_two)#rgb\n",
        "print(im_array.shape)\n",
        "print(im_array1.shape)\n",
        "print(im_array2.shape)\n",
        "#cv2.imshow('image', im)\n",
        "#cv2.waitKey(0)\n",
        "#cv2.destroyAllWindows()\n"
      ],
      "execution_count": 0,
      "outputs": [
        {
          "output_type": "stream",
          "text": [
            "(720, 1280, 3)\n",
            "(720, 1280, 3)\n",
            "(720, 1280, 3)\n"
          ],
          "name": "stdout"
        }
      ]
    },
    {
      "cell_type": "code",
      "metadata": {
        "id": "RefYAoWD6AON",
        "colab_type": "code",
        "outputId": "799f1ced-e574-42d3-96b6-c04f11514f30",
        "colab": {
          "base_uri": "https://localhost:8080/",
          "height": 34
        }
      },
      "source": [
        "import re\n",
        "def get_number(directory):\n",
        "    # Remove anything other than digits\n",
        "    num = re.sub(r'\\D', \"\", directory)    \n",
        "    return num\n",
        "\n",
        "get_number('low_resolution_rgb_2000.jpg')"
      ],
      "execution_count": 0,
      "outputs": [
        {
          "output_type": "execute_result",
          "data": {
            "text/plain": [
              "'2000'"
            ]
          },
          "metadata": {
            "tags": []
          },
          "execution_count": 27
        }
      ]
    },
    {
      "cell_type": "code",
      "metadata": {
        "id": "_77Ursc56AOV",
        "colab_type": "code",
        "outputId": "fdf37c69-7200-4c28-d9f4-b73b65015900",
        "colab": {
          "base_uri": "https://localhost:8080/",
          "height": 34
        }
      },
      "source": [
        "'high_resolution_rgb2000.jpg' in high_list"
      ],
      "execution_count": 0,
      "outputs": [
        {
          "output_type": "execute_result",
          "data": {
            "text/plain": [
              "True"
            ]
          },
          "metadata": {
            "tags": []
          },
          "execution_count": 28
        }
      ]
    },
    {
      "cell_type": "code",
      "metadata": {
        "id": "fO04TOm8ZdC0",
        "colab_type": "code",
        "outputId": "66bb979c-4025-4c4b-c511-b4837c78ea3b",
        "colab": {
          "base_uri": "https://localhost:8080/",
          "height": 34
        }
      },
      "source": [
        "os.getcwd()"
      ],
      "execution_count": 0,
      "outputs": [
        {
          "output_type": "execute_result",
          "data": {
            "text/plain": [
              "'/content'"
            ]
          },
          "metadata": {
            "tags": []
          },
          "execution_count": 29
        }
      ]
    },
    {
      "cell_type": "code",
      "metadata": {
        "id": "sOTGTsVj6AOf",
        "colab_type": "code",
        "outputId": "232c0f68-d858-4eb1-9093-99f178d26e4d",
        "colab": {
          "base_uri": "https://localhost:8080/",
          "height": 52
        }
      },
      "source": [
        "import cv2\n",
        "img = cv2.imread('/content/high resolution/high_resolution_rgb2000.jpg')\n",
        "array = np.asarray(img)\n",
        "print(array.shape)\n",
        "array_one, array_two , array_three = cv2.split(array)\n",
        "array_one.shape, array_two.shape, array_three.shape"
      ],
      "execution_count": 0,
      "outputs": [
        {
          "output_type": "stream",
          "text": [
            "(720, 1280, 3)\n"
          ],
          "name": "stdout"
        },
        {
          "output_type": "execute_result",
          "data": {
            "text/plain": [
              "((720, 1280), (720, 1280), (720, 1280))"
            ]
          },
          "metadata": {
            "tags": []
          },
          "execution_count": 30
        }
      ]
    },
    {
      "cell_type": "code",
      "metadata": {
        "id": "8XGpYZzp6AOl",
        "colab_type": "code",
        "colab": {}
      },
      "source": [
        "input_num, one_one, one_two, two_one,two_two = [],[],[],[],[]\n",
        "def func_array_one(i,j):\n",
        "    one_one.append(high_array_one[i-1][j-1])\n",
        "    one_two.append(high_array_one[i-1][j])\n",
        "    two_one.append(high_array_one[i][j-1])\n",
        "    two_two.append(high_array_one[i][j])\n",
        "    return\n",
        "def func_array_two(i,j):\n",
        "    one_one.append(high_array_two[i-1][j-1])\n",
        "    one_two.append(high_array_two[i-1][j])\n",
        "    two_one.append(high_array_two[i][j-1])\n",
        "    two_two.append(high_array_two[i][j])\n",
        "    return\n",
        "def func_array_three(i,j):\n",
        "    one_one.append(high_array_three[i-1][j-1])\n",
        "    one_two.append(high_array_three[i-1][j])\n",
        "    two_one.append(high_array_three[i][j-1])\n",
        "    two_two.append(high_array_three[i][j])\n",
        "    return"
      ],
      "execution_count": 0,
      "outputs": []
    },
    {
      "cell_type": "code",
      "metadata": {
        "id": "_c6M9gBb6AOq",
        "colab_type": "code",
        "colab": {}
      },
      "source": [
        "start = '>>'"
      ],
      "execution_count": 0,
      "outputs": []
    },
    {
      "cell_type": "code",
      "metadata": {
        "id": "vdp_0NYG6AOw",
        "colab_type": "code",
        "outputId": "0ba82980-622e-4bd7-a88a-ba6f22ff3422",
        "colab": {
          "base_uri": "https://localhost:8080/",
          "height": 34
        }
      },
      "source": [
        "(3/100)*100"
      ],
      "execution_count": 0,
      "outputs": [
        {
          "output_type": "execute_result",
          "data": {
            "text/plain": [
              "3.0"
            ]
          },
          "metadata": {
            "tags": []
          },
          "execution_count": 33
        }
      ]
    },
    {
      "cell_type": "code",
      "metadata": {
        "id": "SFkEozOH6AO2",
        "colab_type": "code",
        "outputId": "7c3f4ac7-3108-458d-fd9c-2b6adcae5e21",
        "colab": {
          "base_uri": "https://localhost:8080/",
          "height": 330
        }
      },
      "source": [
        "start = '>>'\n",
        "def track(end, now):\n",
        "    state = (now/end) * 100\n",
        "    global start\n",
        "    if state in [10.0,20.0,30.0,40.0,50.0,60.0,70.0,80.0,90.0,100.0]:\n",
        "        start = start + \">>\"\n",
        "    else:\n",
        "        pass\n",
        "    print(\"|                    |\")\n",
        "    print(start)\n",
        "    return\n",
        "for i,k in enumerate(range(1,10)):\n",
        "    track(10,i)\n"
      ],
      "execution_count": 0,
      "outputs": [
        {
          "output_type": "stream",
          "text": [
            "|                    |\n",
            ">>\n",
            "|                    |\n",
            ">>>>\n",
            "|                    |\n",
            ">>>>>>\n",
            "|                    |\n",
            ">>>>>>>>\n",
            "|                    |\n",
            ">>>>>>>>>>\n",
            "|                    |\n",
            ">>>>>>>>>>>>\n",
            "|                    |\n",
            ">>>>>>>>>>>>>>\n",
            "|                    |\n",
            ">>>>>>>>>>>>>>>>\n",
            "|                    |\n",
            ">>>>>>>>>>>>>>>>>>\n"
          ],
          "name": "stdout"
        }
      ]
    },
    {
      "cell_type": "code",
      "metadata": {
        "id": "hGAmkbtf6APD",
        "colab_type": "code",
        "outputId": "2181f926-03e5-48ec-a902-8ecfb44c1b2a",
        "colab": {
          "base_uri": "https://localhost:8080/",
          "height": 34
        }
      },
      "source": [
        "start = \">>\"\n",
        "train_data_dir"
      ],
      "execution_count": 0,
      "outputs": [
        {
          "output_type": "execute_result",
          "data": {
            "text/plain": [
              "'/content'"
            ]
          },
          "metadata": {
            "tags": []
          },
          "execution_count": 35
        }
      ]
    },
    {
      "cell_type": "code",
      "metadata": {
        "id": "JORYchW16APO",
        "colab_type": "code",
        "outputId": "ddabd6f4-8894-4565-d0af-86a19a7d75d4",
        "colab": {
          "base_uri": "https://localhost:8080/",
          "height": 712
        }
      },
      "source": [
        "\n",
        "for z,l in enumerate(low_list[:20]):\n",
        "    get_num = get_number(l)\n",
        "    if isinstance(int(get_num),int):\n",
        "        try:\n",
        "            if 'gray' in l:\n",
        "                string_val = 'high_resolution_gray'+str(get_num)+'.jpg'\n",
        "            elif 'rgb' in l:\n",
        "                string_val = 'high_resolution_rgb'+ str(get_num) + '.jpg'\n",
        "            else:\n",
        "                string_val = 'high_resolution_frame'+str(get_num) + '.jpg'\n",
        "        except (ValueError,keyError) as err:\n",
        "            continue\n",
        "    else:\n",
        "        pass\n",
        "    \n",
        "    # get image\n",
        "    high_current_dir = train_data_dir + '/high resolution'+'/'+string_val\n",
        "    low_current_dir = train_data_dir + '/low resolution'+'/'+l\n",
        "    if string_val in high_list:\n",
        "        #proceed with data extraction\n",
        "        # read in corresponding low image resolution\n",
        "        low_img = cv2.imread(low_current_dir)\n",
        "        low_array = np.asarray(low_img)\n",
        "        low_array_one, low_array_two, low_array_three = low_array[:,:,0],low_array[:,:,1], low_array[:,:,2]\n",
        "        \n",
        "        \n",
        "        #read in corresponding high image resolution\n",
        "        high_img = cv2.imread(high_current_dir)\n",
        "        high_array = np.asarray(high_img)\n",
        "        high_array_one, high_array_two, high_array_three = cv2.split(high_array)\n",
        "        \n",
        "        out_one = [func_array_one(i,j) for i in range(len(high_array_one)) for j in high_array_one[i]]\n",
        "        out_two = [func_array_two(i,j) for i in range(len(high_array_two)) for j in high_array_two[i]]\n",
        "        out_three = [func_array_three(i,j) for i in range(len(high_array_three)) for j in high_array_three[i]]\n",
        "        \n",
        "    else:\n",
        "        pass\n",
        "    \n",
        "    #progress bar\n",
        "    track(50,z)"
      ],
      "execution_count": 0,
      "outputs": [
        {
          "output_type": "stream",
          "text": [
            "|                    |\n",
            ">>\n",
            "|                    |\n",
            ">>\n",
            "|                    |\n",
            ">>\n",
            "|                    |\n",
            ">>\n",
            "|                    |\n",
            ">>\n",
            "|                    |\n",
            ">>>>\n",
            "|                    |\n",
            ">>>>\n",
            "|                    |\n",
            ">>>>\n",
            "|                    |\n",
            ">>>>\n",
            "|                    |\n",
            ">>>>\n",
            "|                    |\n",
            ">>>>>>\n",
            "|                    |\n",
            ">>>>>>\n",
            "|                    |\n",
            ">>>>>>\n",
            "|                    |\n",
            ">>>>>>\n",
            "|                    |\n",
            ">>>>>>\n",
            "|                    |\n",
            ">>>>>>>>\n",
            "|                    |\n",
            ">>>>>>>>\n",
            "|                    |\n",
            ">>>>>>>>\n",
            "|                    |\n",
            ">>>>>>>>\n",
            "|                    |\n",
            ">>>>>>>>\n"
          ],
          "name": "stdout"
        }
      ]
    },
    {
      "cell_type": "code",
      "metadata": {
        "id": "C7clN6z96APW",
        "colab_type": "code",
        "outputId": "1eb616c6-3239-4027-f178-87f5f7860fa7",
        "colab": {
          "base_uri": "https://localhost:8080/",
          "height": 34
        }
      },
      "source": [
        "len(input_num), len(one_one)"
      ],
      "execution_count": 0,
      "outputs": [
        {
          "output_type": "execute_result",
          "data": {
            "text/plain": [
              "(0, 55296000)"
            ]
          },
          "metadata": {
            "tags": []
          },
          "execution_count": 37
        }
      ]
    },
    {
      "cell_type": "code",
      "metadata": {
        "id": "uXROi8UJ6APf",
        "colab_type": "code",
        "colab": {}
      },
      "source": [
        "dict_data = {}\n",
        "input_num, one_one, one_two, two_one,two_two\n",
        "dict_data['input'] = two_two\n",
        "dict_data['one_one'] = one_one\n",
        "dict_data['one_two'] = one_two\n",
        "dict_data['two_one'] = two_one\n",
        "frame = pd.DataFrame(dict_data)\n",
        "frame.to_csv('batch_1.csv')"
      ],
      "execution_count": 0,
      "outputs": []
    },
    {
      "cell_type": "code",
      "metadata": {
        "id": "_NzBl52ZSIz0",
        "colab_type": "code",
        "colab": {}
      },
      "source": [
        "# build model\n",
        "import pandas as pd\n",
        "frame = pd.read_csv('batch_1.csv')\n",
        "frame = frame.drop('Unnamed: 0', axis = 1)"
      ],
      "execution_count": 0,
      "outputs": []
    },
    {
      "cell_type": "code",
      "metadata": {
        "id": "vX07h4ZnjpYl",
        "colab_type": "code",
        "outputId": "4fdb4f46-c55f-46d7-dcd2-873b9ff907d6",
        "colab": {
          "base_uri": "https://localhost:8080/",
          "height": 206
        }
      },
      "source": [
        "frame.head()"
      ],
      "execution_count": 123,
      "outputs": [
        {
          "output_type": "execute_result",
          "data": {
            "text/html": [
              "<div>\n",
              "<style scoped>\n",
              "    .dataframe tbody tr th:only-of-type {\n",
              "        vertical-align: middle;\n",
              "    }\n",
              "\n",
              "    .dataframe tbody tr th {\n",
              "        vertical-align: top;\n",
              "    }\n",
              "\n",
              "    .dataframe thead th {\n",
              "        text-align: right;\n",
              "    }\n",
              "</style>\n",
              "<table border=\"1\" class=\"dataframe\">\n",
              "  <thead>\n",
              "    <tr style=\"text-align: right;\">\n",
              "      <th></th>\n",
              "      <th>input</th>\n",
              "      <th>one_one</th>\n",
              "      <th>one_two</th>\n",
              "      <th>two_one</th>\n",
              "    </tr>\n",
              "  </thead>\n",
              "  <tbody>\n",
              "    <tr>\n",
              "      <th>0</th>\n",
              "      <td>139</td>\n",
              "      <td>151</td>\n",
              "      <td>151</td>\n",
              "      <td>138.0</td>\n",
              "    </tr>\n",
              "    <tr>\n",
              "      <th>1</th>\n",
              "      <td>140</td>\n",
              "      <td>149</td>\n",
              "      <td>148</td>\n",
              "      <td>141.0</td>\n",
              "    </tr>\n",
              "    <tr>\n",
              "      <th>2</th>\n",
              "      <td>139</td>\n",
              "      <td>148</td>\n",
              "      <td>147</td>\n",
              "      <td>140.0</td>\n",
              "    </tr>\n",
              "    <tr>\n",
              "      <th>3</th>\n",
              "      <td>139</td>\n",
              "      <td>148</td>\n",
              "      <td>147</td>\n",
              "      <td>140.0</td>\n",
              "    </tr>\n",
              "    <tr>\n",
              "      <th>4</th>\n",
              "      <td>135</td>\n",
              "      <td>146</td>\n",
              "      <td>145</td>\n",
              "      <td>137.0</td>\n",
              "    </tr>\n",
              "  </tbody>\n",
              "</table>\n",
              "</div>"
            ],
            "text/plain": [
              "   input  one_one  one_two  two_one\n",
              "0    139      151      151    138.0\n",
              "1    140      149      148    141.0\n",
              "2    139      148      147    140.0\n",
              "3    139      148      147    140.0\n",
              "4    135      146      145    137.0"
            ]
          },
          "metadata": {
            "tags": []
          },
          "execution_count": 123
        }
      ]
    },
    {
      "cell_type": "code",
      "metadata": {
        "id": "0KFgVQWCoED3",
        "colab_type": "code",
        "colab": {}
      },
      "source": [
        "input_data = frame['input']\n",
        "output_data = frame"
      ],
      "execution_count": 0,
      "outputs": []
    },
    {
      "cell_type": "code",
      "metadata": {
        "id": "iYZGK3D-6AQK",
        "colab_type": "code",
        "colab": {}
      },
      "source": [
        "\n",
        "\t\n",
        "import pandas\n",
        "from keras.models import Sequential\n",
        "from keras.layers import Dense\n",
        "from keras.wrappers.scikit_learn import KerasRegressor\n",
        "from sklearn.model_selection import cross_val_score\n",
        "from sklearn.model_selection import KFold\n",
        "from sklearn.preprocessing import StandardScaler\n",
        "from sklearn.pipeline import Pipeline\n"
      ],
      "execution_count": 0,
      "outputs": []
    },
    {
      "cell_type": "code",
      "metadata": {
        "id": "3QTT1Zi5pIIy",
        "colab_type": "code",
        "colab": {}
      },
      "source": [
        ""
      ],
      "execution_count": 0,
      "outputs": []
    },
    {
      "cell_type": "code",
      "metadata": {
        "id": "MMeuuk7apEAz",
        "colab_type": "code",
        "colab": {}
      },
      "source": [
        "import keras\n",
        "from keras.models import Sequential\n",
        "from keras.layers import Dense# Neural network\n",
        "model = Sequential()\n",
        "model.add(Dense(100, input_dim=1, activation='relu'))\n",
        "model.add(Dense(500, activation='relu'))\n",
        "model.add(Dense(200, activation='relu'))\n",
        "model.add(Dense(100, activation='relu'))\n",
        "model.add(Dense(4, activation = None))\n"
      ],
      "execution_count": 0,
      "outputs": []
    },
    {
      "cell_type": "code",
      "metadata": {
        "id": "fyDBkiZpVJyl",
        "colab_type": "code",
        "colab": {
          "base_uri": "https://localhost:8080/",
          "height": 330
        },
        "outputId": "c7a89f74-01b3-4f88-a52a-bfbf37d25cb7"
      },
      "source": [
        "model.summary()"
      ],
      "execution_count": 148,
      "outputs": [
        {
          "output_type": "stream",
          "text": [
            "Model: \"sequential_15\"\n",
            "_________________________________________________________________\n",
            "Layer (type)                 Output Shape              Param #   \n",
            "=================================================================\n",
            "dense_83 (Dense)             (None, 100)               200       \n",
            "_________________________________________________________________\n",
            "dense_84 (Dense)             (None, 500)               50500     \n",
            "_________________________________________________________________\n",
            "dense_85 (Dense)             (None, 200)               100200    \n",
            "_________________________________________________________________\n",
            "dense_86 (Dense)             (None, 100)               20100     \n",
            "_________________________________________________________________\n",
            "dense_87 (Dense)             (None, 4)                 404       \n",
            "=================================================================\n",
            "Total params: 171,404\n",
            "Trainable params: 171,404\n",
            "Non-trainable params: 0\n",
            "_________________________________________________________________\n"
          ],
          "name": "stdout"
        }
      ]
    },
    {
      "cell_type": "code",
      "metadata": {
        "id": "-_-u2vOfVV3c",
        "colab_type": "code",
        "colab": {}
      },
      "source": [
        "from sklearn.model_selection import train_test_split\n",
        "\n",
        "x_train, x_test, y_train, y_test = train_test_split(input_data, output_data, test_size = 0.30, random_state = 42)\n"
      ],
      "execution_count": 0,
      "outputs": []
    },
    {
      "cell_type": "code",
      "metadata": {
        "id": "ocz1lvV5V4wA",
        "colab_type": "code",
        "colab": {}
      },
      "source": [
        "from keras.optimizers import SGD\n",
        "sgd = SGD(lr = 0.001)\n",
        "model.compile(loss='mean_squared_error', optimizer=sgd, metrics=['mse','mae', 'mape', 'cosine'])"
      ],
      "execution_count": 0,
      "outputs": []
    },
    {
      "cell_type": "code",
      "metadata": {
        "id": "BzjIOvNmVsTV",
        "colab_type": "code",
        "colab": {
          "base_uri": "https://localhost:8080/",
          "height": 1000
        },
        "outputId": "45d95ee1-2ccf-439d-cf0c-3b13cc4ec8d2"
      },
      "source": [
        "history = model.fit(x_train, y_train, epochs = 50, batch_size = 10000)"
      ],
      "execution_count": 151,
      "outputs": [
        {
          "output_type": "stream",
          "text": [
            "Epoch 1/50\n",
            "168633/168633 [==============================] - 1s 7us/step - loss: nan - mean_squared_error: nan - mean_absolute_error: nan - mean_absolute_percentage_error: nan - cosine_proximity: nan\n",
            "Epoch 2/50\n",
            "168633/168633 [==============================] - 0s 1us/step - loss: nan - mean_squared_error: nan - mean_absolute_error: nan - mean_absolute_percentage_error: nan - cosine_proximity: nan\n",
            "Epoch 3/50\n",
            "168633/168633 [==============================] - 0s 1us/step - loss: nan - mean_squared_error: nan - mean_absolute_error: nan - mean_absolute_percentage_error: nan - cosine_proximity: nan\n",
            "Epoch 4/50\n",
            "168633/168633 [==============================] - 0s 1us/step - loss: nan - mean_squared_error: nan - mean_absolute_error: nan - mean_absolute_percentage_error: nan - cosine_proximity: nan\n",
            "Epoch 5/50\n",
            "168633/168633 [==============================] - 0s 1us/step - loss: nan - mean_squared_error: nan - mean_absolute_error: nan - mean_absolute_percentage_error: nan - cosine_proximity: nan\n",
            "Epoch 6/50\n",
            "168633/168633 [==============================] - 0s 1us/step - loss: nan - mean_squared_error: nan - mean_absolute_error: nan - mean_absolute_percentage_error: nan - cosine_proximity: nan\n",
            "Epoch 7/50\n",
            "168633/168633 [==============================] - 0s 1us/step - loss: nan - mean_squared_error: nan - mean_absolute_error: nan - mean_absolute_percentage_error: nan - cosine_proximity: nan\n",
            "Epoch 8/50\n",
            "168633/168633 [==============================] - 0s 1us/step - loss: nan - mean_squared_error: nan - mean_absolute_error: nan - mean_absolute_percentage_error: nan - cosine_proximity: nan\n",
            "Epoch 9/50\n",
            "168633/168633 [==============================] - 0s 1us/step - loss: nan - mean_squared_error: nan - mean_absolute_error: nan - mean_absolute_percentage_error: nan - cosine_proximity: nan\n",
            "Epoch 10/50\n",
            "168633/168633 [==============================] - 0s 1us/step - loss: nan - mean_squared_error: nan - mean_absolute_error: nan - mean_absolute_percentage_error: nan - cosine_proximity: nan\n",
            "Epoch 11/50\n",
            "168633/168633 [==============================] - 0s 1us/step - loss: nan - mean_squared_error: nan - mean_absolute_error: nan - mean_absolute_percentage_error: nan - cosine_proximity: nan\n",
            "Epoch 12/50\n",
            "168633/168633 [==============================] - 0s 1us/step - loss: nan - mean_squared_error: nan - mean_absolute_error: nan - mean_absolute_percentage_error: nan - cosine_proximity: nan\n",
            "Epoch 13/50\n",
            "168633/168633 [==============================] - 0s 1us/step - loss: nan - mean_squared_error: nan - mean_absolute_error: nan - mean_absolute_percentage_error: nan - cosine_proximity: nan\n",
            "Epoch 14/50\n",
            "168633/168633 [==============================] - 0s 1us/step - loss: nan - mean_squared_error: nan - mean_absolute_error: nan - mean_absolute_percentage_error: nan - cosine_proximity: nan\n",
            "Epoch 15/50\n",
            "168633/168633 [==============================] - 0s 1us/step - loss: nan - mean_squared_error: nan - mean_absolute_error: nan - mean_absolute_percentage_error: nan - cosine_proximity: nan\n",
            "Epoch 16/50\n",
            "168633/168633 [==============================] - 0s 1us/step - loss: nan - mean_squared_error: nan - mean_absolute_error: nan - mean_absolute_percentage_error: nan - cosine_proximity: nan\n",
            "Epoch 17/50\n",
            "168633/168633 [==============================] - 0s 1us/step - loss: nan - mean_squared_error: nan - mean_absolute_error: nan - mean_absolute_percentage_error: nan - cosine_proximity: nan\n",
            "Epoch 18/50\n",
            "168633/168633 [==============================] - 0s 1us/step - loss: nan - mean_squared_error: nan - mean_absolute_error: nan - mean_absolute_percentage_error: nan - cosine_proximity: nan\n",
            "Epoch 19/50\n",
            "168633/168633 [==============================] - 0s 1us/step - loss: nan - mean_squared_error: nan - mean_absolute_error: nan - mean_absolute_percentage_error: nan - cosine_proximity: nan\n",
            "Epoch 20/50\n",
            "168633/168633 [==============================] - 0s 1us/step - loss: nan - mean_squared_error: nan - mean_absolute_error: nan - mean_absolute_percentage_error: nan - cosine_proximity: nan\n",
            "Epoch 21/50\n",
            "168633/168633 [==============================] - 0s 1us/step - loss: nan - mean_squared_error: nan - mean_absolute_error: nan - mean_absolute_percentage_error: nan - cosine_proximity: nan\n",
            "Epoch 22/50\n",
            "168633/168633 [==============================] - 0s 1us/step - loss: nan - mean_squared_error: nan - mean_absolute_error: nan - mean_absolute_percentage_error: nan - cosine_proximity: nan\n",
            "Epoch 23/50\n",
            "168633/168633 [==============================] - 0s 1us/step - loss: nan - mean_squared_error: nan - mean_absolute_error: nan - mean_absolute_percentage_error: nan - cosine_proximity: nan\n",
            "Epoch 24/50\n",
            "168633/168633 [==============================] - 0s 1us/step - loss: nan - mean_squared_error: nan - mean_absolute_error: nan - mean_absolute_percentage_error: nan - cosine_proximity: nan\n",
            "Epoch 25/50\n",
            "168633/168633 [==============================] - 0s 1us/step - loss: nan - mean_squared_error: nan - mean_absolute_error: nan - mean_absolute_percentage_error: nan - cosine_proximity: nan\n",
            "Epoch 26/50\n",
            "168633/168633 [==============================] - 0s 1us/step - loss: nan - mean_squared_error: nan - mean_absolute_error: nan - mean_absolute_percentage_error: nan - cosine_proximity: nan\n",
            "Epoch 27/50\n",
            "168633/168633 [==============================] - 0s 1us/step - loss: nan - mean_squared_error: nan - mean_absolute_error: nan - mean_absolute_percentage_error: nan - cosine_proximity: nan\n",
            "Epoch 28/50\n",
            "168633/168633 [==============================] - 0s 1us/step - loss: nan - mean_squared_error: nan - mean_absolute_error: nan - mean_absolute_percentage_error: nan - cosine_proximity: nan\n",
            "Epoch 29/50\n",
            "168633/168633 [==============================] - 0s 1us/step - loss: nan - mean_squared_error: nan - mean_absolute_error: nan - mean_absolute_percentage_error: nan - cosine_proximity: nan\n",
            "Epoch 30/50\n",
            "168633/168633 [==============================] - 0s 1us/step - loss: nan - mean_squared_error: nan - mean_absolute_error: nan - mean_absolute_percentage_error: nan - cosine_proximity: nan\n",
            "Epoch 31/50\n",
            "168633/168633 [==============================] - 0s 1us/step - loss: nan - mean_squared_error: nan - mean_absolute_error: nan - mean_absolute_percentage_error: nan - cosine_proximity: nan\n",
            "Epoch 32/50\n",
            "168633/168633 [==============================] - 0s 1us/step - loss: nan - mean_squared_error: nan - mean_absolute_error: nan - mean_absolute_percentage_error: nan - cosine_proximity: nan\n",
            "Epoch 33/50\n",
            "168633/168633 [==============================] - 0s 1us/step - loss: nan - mean_squared_error: nan - mean_absolute_error: nan - mean_absolute_percentage_error: nan - cosine_proximity: nan\n",
            "Epoch 34/50\n",
            "168633/168633 [==============================] - 0s 1us/step - loss: nan - mean_squared_error: nan - mean_absolute_error: nan - mean_absolute_percentage_error: nan - cosine_proximity: nan\n",
            "Epoch 35/50\n",
            " 80000/168633 [=============>................] - ETA: 0s - loss: nan - mean_squared_error: nan - mean_absolute_error: nan - mean_absolute_percentage_error: nan - cosine_proximity: nan"
          ],
          "name": "stdout"
        },
        {
          "output_type": "error",
          "ename": "KeyboardInterrupt",
          "evalue": "ignored",
          "traceback": [
            "\u001b[0;31m---------------------------------------------------------------------------\u001b[0m",
            "\u001b[0;31mKeyboardInterrupt\u001b[0m                         Traceback (most recent call last)",
            "\u001b[0;32m<ipython-input-151-1c9e6f4e0f5d>\u001b[0m in \u001b[0;36m<module>\u001b[0;34m()\u001b[0m\n\u001b[0;32m----> 1\u001b[0;31m \u001b[0mhistory\u001b[0m \u001b[0;34m=\u001b[0m \u001b[0mmodel\u001b[0m\u001b[0;34m.\u001b[0m\u001b[0mfit\u001b[0m\u001b[0;34m(\u001b[0m\u001b[0mx_train\u001b[0m\u001b[0;34m,\u001b[0m \u001b[0my_train\u001b[0m\u001b[0;34m,\u001b[0m \u001b[0mepochs\u001b[0m \u001b[0;34m=\u001b[0m \u001b[0;36m50\u001b[0m\u001b[0;34m,\u001b[0m \u001b[0mbatch_size\u001b[0m \u001b[0;34m=\u001b[0m \u001b[0;36m10000\u001b[0m\u001b[0;34m)\u001b[0m\u001b[0;34m\u001b[0m\u001b[0;34m\u001b[0m\u001b[0m\n\u001b[0m",
            "\u001b[0;32m/usr/local/lib/python3.6/dist-packages/keras/engine/training.py\u001b[0m in \u001b[0;36mfit\u001b[0;34m(self, x, y, batch_size, epochs, verbose, callbacks, validation_split, validation_data, shuffle, class_weight, sample_weight, initial_epoch, steps_per_epoch, validation_steps, validation_freq, max_queue_size, workers, use_multiprocessing, **kwargs)\u001b[0m\n\u001b[1;32m   1176\u001b[0m                                         \u001b[0msteps_per_epoch\u001b[0m\u001b[0;34m=\u001b[0m\u001b[0msteps_per_epoch\u001b[0m\u001b[0;34m,\u001b[0m\u001b[0;34m\u001b[0m\u001b[0;34m\u001b[0m\u001b[0m\n\u001b[1;32m   1177\u001b[0m                                         \u001b[0mvalidation_steps\u001b[0m\u001b[0;34m=\u001b[0m\u001b[0mvalidation_steps\u001b[0m\u001b[0;34m,\u001b[0m\u001b[0;34m\u001b[0m\u001b[0;34m\u001b[0m\u001b[0m\n\u001b[0;32m-> 1178\u001b[0;31m                                         validation_freq=validation_freq)\n\u001b[0m\u001b[1;32m   1179\u001b[0m \u001b[0;34m\u001b[0m\u001b[0m\n\u001b[1;32m   1180\u001b[0m     def evaluate(self,\n",
            "\u001b[0;32m/usr/local/lib/python3.6/dist-packages/keras/engine/training_arrays.py\u001b[0m in \u001b[0;36mfit_loop\u001b[0;34m(model, fit_function, fit_inputs, out_labels, batch_size, epochs, verbose, callbacks, val_function, val_inputs, shuffle, callback_metrics, initial_epoch, steps_per_epoch, validation_steps, validation_freq)\u001b[0m\n\u001b[1;32m    192\u001b[0m                             fit_inputs[:-1], batch_ids) + [fit_inputs[-1]]\n\u001b[1;32m    193\u001b[0m                     \u001b[0;32melse\u001b[0m\u001b[0;34m:\u001b[0m\u001b[0;34m\u001b[0m\u001b[0;34m\u001b[0m\u001b[0m\n\u001b[0;32m--> 194\u001b[0;31m                         \u001b[0mins_batch\u001b[0m \u001b[0;34m=\u001b[0m \u001b[0mslice_arrays\u001b[0m\u001b[0;34m(\u001b[0m\u001b[0mfit_inputs\u001b[0m\u001b[0;34m,\u001b[0m \u001b[0mbatch_ids\u001b[0m\u001b[0;34m)\u001b[0m\u001b[0;34m\u001b[0m\u001b[0;34m\u001b[0m\u001b[0m\n\u001b[0m\u001b[1;32m    195\u001b[0m                 \u001b[0;32mexcept\u001b[0m \u001b[0mTypeError\u001b[0m\u001b[0;34m:\u001b[0m\u001b[0;34m\u001b[0m\u001b[0;34m\u001b[0m\u001b[0m\n\u001b[1;32m    196\u001b[0m                     raise TypeError('TypeError while preparing batch. '\n",
            "\u001b[0;32m/usr/local/lib/python3.6/dist-packages/keras/utils/generic_utils.py\u001b[0m in \u001b[0;36mslice_arrays\u001b[0;34m(arrays, start, stop)\u001b[0m\n\u001b[1;32m    553\u001b[0m             \u001b[0;32mif\u001b[0m \u001b[0mhasattr\u001b[0m\u001b[0;34m(\u001b[0m\u001b[0mstart\u001b[0m\u001b[0;34m,\u001b[0m \u001b[0;34m'shape'\u001b[0m\u001b[0;34m)\u001b[0m\u001b[0;34m:\u001b[0m\u001b[0;34m\u001b[0m\u001b[0;34m\u001b[0m\u001b[0m\n\u001b[1;32m    554\u001b[0m                 \u001b[0mstart\u001b[0m \u001b[0;34m=\u001b[0m \u001b[0mstart\u001b[0m\u001b[0;34m.\u001b[0m\u001b[0mtolist\u001b[0m\u001b[0;34m(\u001b[0m\u001b[0;34m)\u001b[0m\u001b[0;34m\u001b[0m\u001b[0;34m\u001b[0m\u001b[0m\n\u001b[0;32m--> 555\u001b[0;31m             \u001b[0;32mreturn\u001b[0m \u001b[0;34m[\u001b[0m\u001b[0;32mNone\u001b[0m \u001b[0;32mif\u001b[0m \u001b[0mx\u001b[0m \u001b[0;32mis\u001b[0m \u001b[0;32mNone\u001b[0m \u001b[0;32melse\u001b[0m \u001b[0mx\u001b[0m\u001b[0;34m[\u001b[0m\u001b[0mstart\u001b[0m\u001b[0;34m]\u001b[0m \u001b[0;32mfor\u001b[0m \u001b[0mx\u001b[0m \u001b[0;32min\u001b[0m \u001b[0marrays\u001b[0m\u001b[0;34m]\u001b[0m\u001b[0;34m\u001b[0m\u001b[0;34m\u001b[0m\u001b[0m\n\u001b[0m\u001b[1;32m    556\u001b[0m         \u001b[0;32melse\u001b[0m\u001b[0;34m:\u001b[0m\u001b[0;34m\u001b[0m\u001b[0;34m\u001b[0m\u001b[0m\n\u001b[1;32m    557\u001b[0m             \u001b[0;32mreturn\u001b[0m \u001b[0;34m[\u001b[0m\u001b[0;32mNone\u001b[0m \u001b[0;32mif\u001b[0m \u001b[0mx\u001b[0m \u001b[0;32mis\u001b[0m \u001b[0;32mNone\u001b[0m \u001b[0;32melse\u001b[0m \u001b[0mx\u001b[0m\u001b[0;34m[\u001b[0m\u001b[0mstart\u001b[0m\u001b[0;34m:\u001b[0m\u001b[0mstop\u001b[0m\u001b[0;34m]\u001b[0m \u001b[0;32mfor\u001b[0m \u001b[0mx\u001b[0m \u001b[0;32min\u001b[0m \u001b[0marrays\u001b[0m\u001b[0;34m]\u001b[0m\u001b[0;34m\u001b[0m\u001b[0;34m\u001b[0m\u001b[0m\n",
            "\u001b[0;32m/usr/local/lib/python3.6/dist-packages/keras/utils/generic_utils.py\u001b[0m in \u001b[0;36m<listcomp>\u001b[0;34m(.0)\u001b[0m\n\u001b[1;32m    553\u001b[0m             \u001b[0;32mif\u001b[0m \u001b[0mhasattr\u001b[0m\u001b[0;34m(\u001b[0m\u001b[0mstart\u001b[0m\u001b[0;34m,\u001b[0m \u001b[0;34m'shape'\u001b[0m\u001b[0;34m)\u001b[0m\u001b[0;34m:\u001b[0m\u001b[0;34m\u001b[0m\u001b[0;34m\u001b[0m\u001b[0m\n\u001b[1;32m    554\u001b[0m                 \u001b[0mstart\u001b[0m \u001b[0;34m=\u001b[0m \u001b[0mstart\u001b[0m\u001b[0;34m.\u001b[0m\u001b[0mtolist\u001b[0m\u001b[0;34m(\u001b[0m\u001b[0;34m)\u001b[0m\u001b[0;34m\u001b[0m\u001b[0;34m\u001b[0m\u001b[0m\n\u001b[0;32m--> 555\u001b[0;31m             \u001b[0;32mreturn\u001b[0m \u001b[0;34m[\u001b[0m\u001b[0;32mNone\u001b[0m \u001b[0;32mif\u001b[0m \u001b[0mx\u001b[0m \u001b[0;32mis\u001b[0m \u001b[0;32mNone\u001b[0m \u001b[0;32melse\u001b[0m \u001b[0mx\u001b[0m\u001b[0;34m[\u001b[0m\u001b[0mstart\u001b[0m\u001b[0;34m]\u001b[0m \u001b[0;32mfor\u001b[0m \u001b[0mx\u001b[0m \u001b[0;32min\u001b[0m \u001b[0marrays\u001b[0m\u001b[0;34m]\u001b[0m\u001b[0;34m\u001b[0m\u001b[0;34m\u001b[0m\u001b[0m\n\u001b[0m\u001b[1;32m    556\u001b[0m         \u001b[0;32melse\u001b[0m\u001b[0;34m:\u001b[0m\u001b[0;34m\u001b[0m\u001b[0;34m\u001b[0m\u001b[0m\n\u001b[1;32m    557\u001b[0m             \u001b[0;32mreturn\u001b[0m \u001b[0;34m[\u001b[0m\u001b[0;32mNone\u001b[0m \u001b[0;32mif\u001b[0m \u001b[0mx\u001b[0m \u001b[0;32mis\u001b[0m \u001b[0;32mNone\u001b[0m \u001b[0;32melse\u001b[0m \u001b[0mx\u001b[0m\u001b[0;34m[\u001b[0m\u001b[0mstart\u001b[0m\u001b[0;34m:\u001b[0m\u001b[0mstop\u001b[0m\u001b[0;34m]\u001b[0m \u001b[0;32mfor\u001b[0m \u001b[0mx\u001b[0m \u001b[0;32min\u001b[0m \u001b[0marrays\u001b[0m\u001b[0;34m]\u001b[0m\u001b[0;34m\u001b[0m\u001b[0;34m\u001b[0m\u001b[0m\n",
            "\u001b[0;31mKeyboardInterrupt\u001b[0m: "
          ]
        }
      ]
    },
    {
      "cell_type": "code",
      "metadata": {
        "id": "H4bkcXgOV2Tu",
        "colab_type": "code",
        "colab": {
          "base_uri": "https://localhost:8080/",
          "height": 52
        },
        "outputId": "a802016c-93e8-415d-89fa-bcedbfde99d6"
      },
      "source": [
        "# evaluate the keras model\n",
        "accuracy = model.evaluate(x_train, y_train)\n",
        "print(accuracy)"
      ],
      "execution_count": 107,
      "outputs": [
        {
          "output_type": "stream",
          "text": [
            "168633/168633 [==============================] - 9s 55us/step\n",
            "[1502.6186661720587, 1502.6186661720587, 28.426053986637008, 23.66044252747425, -0.999713949553092]\n"
          ],
          "name": "stdout"
        }
      ]
    },
    {
      "cell_type": "code",
      "metadata": {
        "id": "UzTNacwgXWjE",
        "colab_type": "code",
        "colab": {
          "base_uri": "https://localhost:8080/",
          "height": 450
        },
        "outputId": "b971e4f4-38bf-4002-d893-93efee644f55"
      },
      "source": [
        "from matplotlib import pyplot\n",
        "pyplot.plot(history.history['mean_squared_error'])\n",
        "\n",
        "pyplot.show()\n",
        "pyplot.savefig('mean squared error with learning rate = 0.01 sgd.jpg')"
      ],
      "execution_count": 108,
      "outputs": [
        {
          "output_type": "display_data",
          "data": {
            "image/png": "[encoded data removed]",
            "text/plain": [
              "<Figure size 432x288 with 1 Axes>"
            ]
          },
          "metadata": {
            "tags": []
          }
        },
        {
          "output_type": "error",
          "ename": "NameError",
          "evalue": "ignored",
          "traceback": [
            "\u001b[0;31m---------------------------------------------------------------------------\u001b[0m",
            "\u001b[0;31mNameError\u001b[0m                                 Traceback (most recent call last)",
            "\u001b[0;32m<ipython-input-108-5e168ea68373>\u001b[0m in \u001b[0;36m<module>\u001b[0;34m()\u001b[0m\n\u001b[1;32m      3\u001b[0m \u001b[0;34m\u001b[0m\u001b[0m\n\u001b[1;32m      4\u001b[0m \u001b[0mpyplot\u001b[0m\u001b[0;34m.\u001b[0m\u001b[0mshow\u001b[0m\u001b[0;34m(\u001b[0m\u001b[0;34m)\u001b[0m\u001b[0;34m\u001b[0m\u001b[0;34m\u001b[0m\u001b[0m\n\u001b[0;32m----> 5\u001b[0;31m \u001b[0mplt\u001b[0m\u001b[0;34m.\u001b[0m\u001b[0msavefig\u001b[0m\u001b[0;34m(\u001b[0m\u001b[0;34m'mean squared error with learning rate 0.001.jpg'\u001b[0m\u001b[0;34m)\u001b[0m\u001b[0;34m\u001b[0m\u001b[0;34m\u001b[0m\u001b[0m\n\u001b[0m",
            "\u001b[0;31mNameError\u001b[0m: name 'plt' is not defined"
          ]
        }
      ]
    },
    {
      "cell_type": "code",
      "metadata": {
        "id": "E2OEO_s3h8Nx",
        "colab_type": "code",
        "colab": {
          "base_uri": "https://localhost:8080/",
          "height": 282
        },
        "outputId": "94b504f5-0ca9-4054-a320-8ca180d9605c"
      },
      "source": [
        "pyplot.plot(history.history['mean_absolute_error'])\n"
      ],
      "execution_count": 69,
      "outputs": [
        {
          "output_type": "execute_result",
          "data": {
            "text/plain": [
              "[<matplotlib.lines.Line2D at 0x7fadf67f0080>]"
            ]
          },
          "metadata": {
            "tags": []
          },
          "execution_count": 69
        },
        {
          "output_type": "display_data",
          "data": {
            "image/png": "[encoded data removed]",
            "text/plain": [
              "<Figure size 432x288 with 1 Axes>"
            ]
          },
          "metadata": {
            "tags": []
          }
        }
      ]
    },
    {
      "cell_type": "code",
      "metadata": {
        "id": "KacveaDljdOT",
        "colab_type": "code",
        "colab": {
          "base_uri": "https://localhost:8080/",
          "height": 282
        },
        "outputId": "7033e672-2656-493e-dca7-9dedcf116d8f"
      },
      "source": [
        "pyplot.plot(history.history['mean_absolute_percentage_error'])\n"
      ],
      "execution_count": 70,
      "outputs": [
        {
          "output_type": "execute_result",
          "data": {
            "text/plain": [
              "[<matplotlib.lines.Line2D at 0x7fadf667bd68>]"
            ]
          },
          "metadata": {
            "tags": []
          },
          "execution_count": 70
        },
        {
          "output_type": "display_data",
          "data": {
            "image/png": "[encoded data removed]",
            "text/plain": [
              "<Figure size 432x288 with 1 Axes>"
            ]
          },
          "metadata": {
            "tags": []
          }
        }
      ]
    },
    {
      "cell_type": "code",
      "metadata": {
        "id": "YDpuO7wyjepM",
        "colab_type": "code",
        "colab": {
          "base_uri": "https://localhost:8080/",
          "height": 293
        },
        "outputId": "86900786-2a87-4c3a-e52a-44367932a9b8"
      },
      "source": [
        "pyplot.plot(history.history['cosine_proximity'])"
      ],
      "execution_count": 71,
      "outputs": [
        {
          "output_type": "execute_result",
          "data": {
            "text/plain": [
              "[<matplotlib.lines.Line2D at 0x7fadf666a080>]"
            ]
          },
          "metadata": {
            "tags": []
          },
          "execution_count": 71
        },
        {
          "output_type": "display_data",
          "data": {
            "image/png": "[encoded data removed]",
            "text/plain": [
              "<Figure size 432x288 with 1 Axes>"
            ]
          },
          "metadata": {
            "tags": []
          }
        }
      ]
    },
    {
      "cell_type": "code",
      "metadata": {
        "id": "RnqDUYgrjfsN",
        "colab_type": "code",
        "colab": {}
      },
      "source": [
        "model.save('resolutor.h5')"
      ],
      "execution_count": 0,
      "outputs": []
    },
    {
      "cell_type": "code",
      "metadata": {
        "id": "pCKwtX1HkGzI",
        "colab_type": "code",
        "colab": {}
      },
      "source": [
        ""
      ],
      "execution_count": 0,
      "outputs": []
    }
  ]
}