{
  "nbformat": 4,
  "nbformat_minor": 0,
  "metadata": {
    "kernelspec": {
      "name": "python3",
      "display_name": "Python 3"
    },
    "language_info": {
      "codemirror_mode": {
        "name": "ipython",
        "version": 3
      },
      "file_extension": ".py",
      "mimetype": "text/x-python",
      "name": "python",
      "nbconvert_exporter": "python",
      "pygments_lexer": "ipython3",
      "version": "3.7.4"
    },
    "colab": {
      "name": "data and model.ipynb",
      "provenance": [],
      "include_colab_link": true
    },
    "accelerator": "GPU"
  },
  "cells": [
    {
      "cell_type": "markdown",
      "metadata": {
        "id": "view-in-github",
        "colab_type": "text"
      },
      "source": [
        "<a href=\"https://colab.research.google.com/github/elishatofunmi/super-resolutor/blob/master/data_and_model.ipynb\" target=\"_parent\"><img src=\"https://colab.research.google.com/assets/colab-badge.svg\" alt=\"Open In Colab\"/></a>"
      ]
    },
    {
      "cell_type": "code",
      "metadata": {
        "id": "ezkQ_n_w6AL2",
        "colab_type": "code",
        "colab": {}
      },
      "source": [
        "import os, sys\n",
        "import numpy as np\n",
        "import scipy as sp\n",
        "import pandas as pd\n",
        "import re"
      ],
      "execution_count": 0,
      "outputs": []
    },
    {
      "cell_type": "code",
      "metadata": {
        "id": "XUu_Y3eT6AMJ",
        "colab_type": "code",
        "outputId": "043fca0c-15ba-4c68-8ff3-1af750e952dd",
        "colab": {
          "base_uri": "https://localhost:8080/",
          "height": 34
        }
      },
      "source": [
        "os.getcwd()"
      ],
      "execution_count": 15,
      "outputs": [
        {
          "output_type": "execute_result",
          "data": {
            "text/plain": [
              "'/content'"
            ]
          },
          "metadata": {
            "tags": []
          },
          "execution_count": 15
        }
      ]
    },
    {
      "cell_type": "code",
      "metadata": {
        "id": "3Gk0tS0m6AMb",
        "colab_type": "code",
        "outputId": "9d4fe149-2a78-4b70-86eb-95731b6ed1fa",
        "colab": {
          "base_uri": "https://localhost:8080/",
          "height": 34
        }
      },
      "source": [
        "'low resolution' in os.listdir(), 'high resolution' in os.listdir()"
      ],
      "execution_count": 17,
      "outputs": [
        {
          "output_type": "execute_result",
          "data": {
            "text/plain": [
              "(True, True)"
            ]
          },
          "metadata": {
            "tags": []
          },
          "execution_count": 17
        }
      ]
    },
    {
      "cell_type": "code",
      "metadata": {
        "id": "DaUaPUU56AMm",
        "colab_type": "code",
        "colab": {}
      },
      "source": [
        "#os.chdir('/home/odemakinde/Desktop/super-resolutor-master/data_source/train_data')"
      ],
      "execution_count": 0,
      "outputs": []
    },
    {
      "cell_type": "code",
      "metadata": {
        "id": "Ddk-VLaZ6AMy",
        "colab_type": "code",
        "outputId": "635cdd23-8b75-4d2c-97d8-cba35e1c0918",
        "colab": {
          "base_uri": "https://localhost:8080/",
          "height": 34
        }
      },
      "source": [
        "train_data_dir = os.getcwd()\n",
        "print(train_data_dir)"
      ],
      "execution_count": 19,
      "outputs": [
        {
          "output_type": "stream",
          "text": [
            "/content\n"
          ],
          "name": "stdout"
        }
      ]
    },
    {
      "cell_type": "code",
      "metadata": {
        "id": "-leM0sjr6AM9",
        "colab_type": "code",
        "outputId": "bc770756-9843-4a37-a1b8-c4a59e9f6906",
        "colab": {
          "base_uri": "https://localhost:8080/",
          "height": 34
        }
      },
      "source": [
        "directories = os.listdir()\n",
        "len(directories)"
      ],
      "execution_count": 20,
      "outputs": [
        {
          "output_type": "execute_result",
          "data": {
            "text/plain": [
              "5"
            ]
          },
          "metadata": {
            "tags": []
          },
          "execution_count": 20
        }
      ]
    },
    {
      "cell_type": "code",
      "metadata": {
        "id": "x2NCwL9f6ANG",
        "colab_type": "code",
        "colab": {}
      },
      "source": [
        "low_list, high_list = [],[]\n",
        "os.chdir(train_data_dir + '/low resolution')\n",
        "low_list = os.listdir()\n",
        "os.chdir(train_data_dir + '/high resolution')\n",
        "high_list = os.listdir()\n",
        "os.chdir(train_data_dir)\n"
      ],
      "execution_count": 0,
      "outputs": []
    },
    {
      "cell_type": "code",
      "metadata": {
        "id": "zlKZDXzS6ANN",
        "colab_type": "code",
        "outputId": "bbd342cb-f1b2-43f6-9039-afa4d6c43ff7",
        "colab": {
          "base_uri": "https://localhost:8080/",
          "height": 34
        }
      },
      "source": [
        "len(low_list), len(high_list)"
      ],
      "execution_count": 22,
      "outputs": [
        {
          "output_type": "execute_result",
          "data": {
            "text/plain": [
              "(429, 429)"
            ]
          },
          "metadata": {
            "tags": []
          },
          "execution_count": 22
        }
      ]
    },
    {
      "cell_type": "markdown",
      "metadata": {
        "id": "bafKw5lM6ANX",
        "colab_type": "text"
      },
      "source": [
        "# image dimension k =2 "
      ]
    },
    {
      "cell_type": "code",
      "metadata": {
        "id": "BePMKnzN6ANb",
        "colab_type": "code",
        "outputId": "acd55adc-f910-4cb4-e56d-8259de65143f",
        "colab": {
          "base_uri": "https://localhost:8080/",
          "height": 69
        }
      },
      "source": [
        "#low resolution\n",
        "next_dir = train_data_dir + '/low resolution'+ '/' + low_list[1]\n",
        "next_two = next_dir[:-12] + 'frame1900.jpg'\n",
        "next_three = next_dir[:-12] + 'rgb1900.jpg'\n",
        "print(next_two)\n",
        "print(next_dir)\n",
        "print(next_three)"
      ],
      "execution_count": 23,
      "outputs": [
        {
          "output_type": "stream",
          "text": [
            "/content/low resolution/low_resolution_frame1900.jpg\n",
            "/content/low resolution/low_resolution_gray1600.jpg\n",
            "/content/low resolution/low_resolution_rgb1900.jpg\n"
          ],
          "name": "stdout"
        }
      ]
    },
    {
      "cell_type": "code",
      "metadata": {
        "id": "2iOUflCm6ANm",
        "colab_type": "code",
        "outputId": "2912d0bc-e709-434c-dd47-2fe983e0bee7",
        "colab": {
          "base_uri": "https://localhost:8080/",
          "height": 69
        }
      },
      "source": [
        "# high resolution\n",
        "high_one = train_data_dir + '/high resolution'+ '/' + high_list[1]\n",
        "high_two = high_one[:-12] + '_frame6350.jpg'\n",
        "high_three = high_one[:-12] + '_rgb6350.jpg'\n",
        "print(high_one)\n",
        "print(high_two)\n",
        "print(high_three)"
      ],
      "execution_count": 24,
      "outputs": [
        {
          "output_type": "stream",
          "text": [
            "/content/high resolution/high_resolution_gray200.jpg\n",
            "/content/high resolution/high_resolution_frame6350.jpg\n",
            "/content/high resolution/high_resolution_rgb6350.jpg\n"
          ],
          "name": "stdout"
        }
      ]
    },
    {
      "cell_type": "code",
      "metadata": {
        "id": "vDA0XHk26AN4",
        "colab_type": "code",
        "outputId": "1d4103ed-e7cf-4ccf-9647-1ce21a75aef5",
        "colab": {
          "base_uri": "https://localhost:8080/",
          "height": 69
        }
      },
      "source": [
        "# low resolution\n",
        "import cv2\n",
        "import numpy as np\n",
        "im = cv2.imread(next_two)#frame\n",
        "im_one = cv2.imread(next_dir)#gray\n",
        "im_two = cv2.imread(next_three)#rgb\n",
        "im_array = np.asarray(im)#frame\n",
        "im_array1 = np.asarray(im_one)#gray\n",
        "im_array2 = np.asarray(im_two)#rgb\n",
        "print(im_array.shape)\n",
        "print(im_array1.shape)\n",
        "print(im_array2.shape)\n",
        "#cv2.imshow('image', im)\n",
        "#cv2.waitKey(0)\n",
        "#cv2.destroyAllWindows()\n"
      ],
      "execution_count": 25,
      "outputs": [
        {
          "output_type": "stream",
          "text": [
            "(360, 640, 3)\n",
            "(360, 640, 3)\n",
            "(360, 640, 3)\n"
          ],
          "name": "stdout"
        }
      ]
    },
    {
      "cell_type": "code",
      "metadata": {
        "id": "amXQvDaT6AOE",
        "colab_type": "code",
        "outputId": "6b9d0a6e-587f-48e2-ea52-1586a3db560f",
        "colab": {
          "base_uri": "https://localhost:8080/",
          "height": 69
        }
      },
      "source": [
        "# high resolution\n",
        "import cv2\n",
        "import numpy as np\n",
        "im = cv2.imread(high_one)#gray\n",
        "im_one = cv2.imread(high_two)#frame\n",
        "im_two = cv2.imread(high_three)#rgb\n",
        "im_array = np.asarray(im)#gray\n",
        "im_array1 = np.asarray(im_one)#frame\n",
        "im_array2 = np.asarray(im_two)#rgb\n",
        "print(im_array.shape)\n",
        "print(im_array1.shape)\n",
        "print(im_array2.shape)\n",
        "#cv2.imshow('image', im)\n",
        "#cv2.waitKey(0)\n",
        "#cv2.destroyAllWindows()\n"
      ],
      "execution_count": 26,
      "outputs": [
        {
          "output_type": "stream",
          "text": [
            "(720, 1280, 3)\n",
            "(720, 1280, 3)\n",
            "(720, 1280, 3)\n"
          ],
          "name": "stdout"
        }
      ]
    },
    {
      "cell_type": "code",
      "metadata": {
        "id": "RefYAoWD6AON",
        "colab_type": "code",
        "outputId": "799f1ced-e574-42d3-96b6-c04f11514f30",
        "colab": {
          "base_uri": "https://localhost:8080/",
          "height": 34
        }
      },
      "source": [
        "import re\n",
        "def get_number(directory):\n",
        "    # Remove anything other than digits\n",
        "    num = re.sub(r'\\D', \"\", directory)    \n",
        "    return num\n",
        "\n",
        "get_number('low_resolution_rgb_2000.jpg')"
      ],
      "execution_count": 27,
      "outputs": [
        {
          "output_type": "execute_result",
          "data": {
            "text/plain": [
              "'2000'"
            ]
          },
          "metadata": {
            "tags": []
          },
          "execution_count": 27
        }
      ]
    },
    {
      "cell_type": "code",
      "metadata": {
        "id": "_77Ursc56AOV",
        "colab_type": "code",
        "outputId": "fdf37c69-7200-4c28-d9f4-b73b65015900",
        "colab": {
          "base_uri": "https://localhost:8080/",
          "height": 34
        }
      },
      "source": [
        "'high_resolution_rgb2000.jpg' in high_list"
      ],
      "execution_count": 28,
      "outputs": [
        {
          "output_type": "execute_result",
          "data": {
            "text/plain": [
              "True"
            ]
          },
          "metadata": {
            "tags": []
          },
          "execution_count": 28
        }
      ]
    },
    {
      "cell_type": "code",
      "metadata": {
        "id": "fO04TOm8ZdC0",
        "colab_type": "code",
        "colab": {
          "base_uri": "https://localhost:8080/",
          "height": 34
        },
        "outputId": "66bb979c-4025-4c4b-c511-b4837c78ea3b"
      },
      "source": [
        "os.getcwd()"
      ],
      "execution_count": 29,
      "outputs": [
        {
          "output_type": "execute_result",
          "data": {
            "text/plain": [
              "'/content'"
            ]
          },
          "metadata": {
            "tags": []
          },
          "execution_count": 29
        }
      ]
    },
    {
      "cell_type": "code",
      "metadata": {
        "id": "sOTGTsVj6AOf",
        "colab_type": "code",
        "outputId": "232c0f68-d858-4eb1-9093-99f178d26e4d",
        "colab": {
          "base_uri": "https://localhost:8080/",
          "height": 52
        }
      },
      "source": [
        "import cv2\n",
        "img = cv2.imread('/content/high resolution/high_resolution_rgb2000.jpg')\n",
        "array = np.asarray(img)\n",
        "print(array.shape)\n",
        "array_one, array_two , array_three = cv2.split(array)\n",
        "array_one.shape, array_two.shape, array_three.shape"
      ],
      "execution_count": 30,
      "outputs": [
        {
          "output_type": "stream",
          "text": [
            "(720, 1280, 3)\n"
          ],
          "name": "stdout"
        },
        {
          "output_type": "execute_result",
          "data": {
            "text/plain": [
              "((720, 1280), (720, 1280), (720, 1280))"
            ]
          },
          "metadata": {
            "tags": []
          },
          "execution_count": 30
        }
      ]
    },
    {
      "cell_type": "code",
      "metadata": {
        "id": "8XGpYZzp6AOl",
        "colab_type": "code",
        "colab": {}
      },
      "source": [
        "input_num, one_one, one_two, two_one,two_two = [],[],[],[],[]\n",
        "def func_array_one(i,j):\n",
        "    one_one.append(high_array_one[i-1][j-1])\n",
        "    one_two.append(high_array_one[i-1][j])\n",
        "    two_one.append(high_array_one[i][j-1])\n",
        "    two_two.append(high_array_one[i][j])\n",
        "    return\n",
        "def func_array_two(i,j):\n",
        "    one_one.append(high_array_two[i-1][j-1])\n",
        "    one_two.append(high_array_two[i-1][j])\n",
        "    two_one.append(high_array_two[i][j-1])\n",
        "    two_two.append(high_array_two[i][j])\n",
        "    return\n",
        "def func_array_three(i,j):\n",
        "    one_one.append(high_array_three[i-1][j-1])\n",
        "    one_two.append(high_array_three[i-1][j])\n",
        "    two_one.append(high_array_three[i][j-1])\n",
        "    two_two.append(high_array_three[i][j])\n",
        "    return"
      ],
      "execution_count": 0,
      "outputs": []
    },
    {
      "cell_type": "code",
      "metadata": {
        "id": "_c6M9gBb6AOq",
        "colab_type": "code",
        "colab": {}
      },
      "source": [
        "start = '>>'"
      ],
      "execution_count": 0,
      "outputs": []
    },
    {
      "cell_type": "code",
      "metadata": {
        "id": "vdp_0NYG6AOw",
        "colab_type": "code",
        "outputId": "0ba82980-622e-4bd7-a88a-ba6f22ff3422",
        "colab": {
          "base_uri": "https://localhost:8080/",
          "height": 34
        }
      },
      "source": [
        "(3/100)*100"
      ],
      "execution_count": 33,
      "outputs": [
        {
          "output_type": "execute_result",
          "data": {
            "text/plain": [
              "3.0"
            ]
          },
          "metadata": {
            "tags": []
          },
          "execution_count": 33
        }
      ]
    },
    {
      "cell_type": "code",
      "metadata": {
        "id": "SFkEozOH6AO2",
        "colab_type": "code",
        "outputId": "7c3f4ac7-3108-458d-fd9c-2b6adcae5e21",
        "colab": {
          "base_uri": "https://localhost:8080/",
          "height": 330
        }
      },
      "source": [
        "start = '>>'\n",
        "def track(end, now):\n",
        "    state = (now/end) * 100\n",
        "    global start\n",
        "    if state in [10.0,20.0,30.0,40.0,50.0,60.0,70.0,80.0,90.0,100.0]:\n",
        "        start = start + \">>\"\n",
        "    else:\n",
        "        pass\n",
        "    print(\"|                    |\")\n",
        "    print(start)\n",
        "    return\n",
        "for i,k in enumerate(range(1,10)):\n",
        "    track(10,i)\n"
      ],
      "execution_count": 34,
      "outputs": [
        {
          "output_type": "stream",
          "text": [
            "|                    |\n",
            ">>\n",
            "|                    |\n",
            ">>>>\n",
            "|                    |\n",
            ">>>>>>\n",
            "|                    |\n",
            ">>>>>>>>\n",
            "|                    |\n",
            ">>>>>>>>>>\n",
            "|                    |\n",
            ">>>>>>>>>>>>\n",
            "|                    |\n",
            ">>>>>>>>>>>>>>\n",
            "|                    |\n",
            ">>>>>>>>>>>>>>>>\n",
            "|                    |\n",
            ">>>>>>>>>>>>>>>>>>\n"
          ],
          "name": "stdout"
        }
      ]
    },
    {
      "cell_type": "code",
      "metadata": {
        "id": "hGAmkbtf6APD",
        "colab_type": "code",
        "colab": {
          "base_uri": "https://localhost:8080/",
          "height": 34
        },
        "outputId": "2181f926-03e5-48ec-a902-8ecfb44c1b2a"
      },
      "source": [
        "start = \">>\"\n",
        "train_data_dir"
      ],
      "execution_count": 35,
      "outputs": [
        {
          "output_type": "execute_result",
          "data": {
            "text/plain": [
              "'/content'"
            ]
          },
          "metadata": {
            "tags": []
          },
          "execution_count": 35
        }
      ]
    },
    {
      "cell_type": "code",
      "metadata": {
        "id": "JORYchW16APO",
        "colab_type": "code",
        "outputId": "ddabd6f4-8894-4565-d0af-86a19a7d75d4",
        "colab": {
          "base_uri": "https://localhost:8080/",
          "height": 712
        }
      },
      "source": [
        "\n",
        "for z,l in enumerate(low_list[:20]):\n",
        "    get_num = get_number(l)\n",
        "    if isinstance(int(get_num),int):\n",
        "        try:\n",
        "            if 'gray' in l:\n",
        "                string_val = 'high_resolution_gray'+str(get_num)+'.jpg'\n",
        "            elif 'rgb' in l:\n",
        "                string_val = 'high_resolution_rgb'+ str(get_num) + '.jpg'\n",
        "            else:\n",
        "                string_val = 'high_resolution_frame'+str(get_num) + '.jpg'\n",
        "        except (ValueError,keyError) as err:\n",
        "            continue\n",
        "    else:\n",
        "        pass\n",
        "    \n",
        "    # get image\n",
        "    high_current_dir = train_data_dir + '/high resolution'+'/'+string_val\n",
        "    low_current_dir = train_data_dir + '/low resolution'+'/'+l\n",
        "    if string_val in high_list:\n",
        "        #proceed with data extraction\n",
        "        # read in corresponding low image resolution\n",
        "        low_img = cv2.imread(low_current_dir)\n",
        "        low_array = np.asarray(low_img)\n",
        "        low_array_one, low_array_two, low_array_three = low_array[:,:,0],low_array[:,:,1], low_array[:,:,2]\n",
        "        \n",
        "        \n",
        "        #read in corresponding high image resolution\n",
        "        high_img = cv2.imread(high_current_dir)\n",
        "        high_array = np.asarray(high_img)\n",
        "        high_array_one, high_array_two, high_array_three = cv2.split(high_array)\n",
        "        \n",
        "        out_one = [func_array_one(i,j) for i in range(len(high_array_one)) for j in high_array_one[i]]\n",
        "        out_two = [func_array_two(i,j) for i in range(len(high_array_two)) for j in high_array_two[i]]\n",
        "        out_three = [func_array_three(i,j) for i in range(len(high_array_three)) for j in high_array_three[i]]\n",
        "        \n",
        "    else:\n",
        "        pass\n",
        "    \n",
        "    #progress bar\n",
        "    track(50,z)"
      ],
      "execution_count": 36,
      "outputs": [
        {
          "output_type": "stream",
          "text": [
            "|                    |\n",
            ">>\n",
            "|                    |\n",
            ">>\n",
            "|                    |\n",
            ">>\n",
            "|                    |\n",
            ">>\n",
            "|                    |\n",
            ">>\n",
            "|                    |\n",
            ">>>>\n",
            "|                    |\n",
            ">>>>\n",
            "|                    |\n",
            ">>>>\n",
            "|                    |\n",
            ">>>>\n",
            "|                    |\n",
            ">>>>\n",
            "|                    |\n",
            ">>>>>>\n",
            "|                    |\n",
            ">>>>>>\n",
            "|                    |\n",
            ">>>>>>\n",
            "|                    |\n",
            ">>>>>>\n",
            "|                    |\n",
            ">>>>>>\n",
            "|                    |\n",
            ">>>>>>>>\n",
            "|                    |\n",
            ">>>>>>>>\n",
            "|                    |\n",
            ">>>>>>>>\n",
            "|                    |\n",
            ">>>>>>>>\n",
            "|                    |\n",
            ">>>>>>>>\n"
          ],
          "name": "stdout"
        }
      ]
    },
    {
      "cell_type": "code",
      "metadata": {
        "id": "C7clN6z96APW",
        "colab_type": "code",
        "outputId": "1eb616c6-3239-4027-f178-87f5f7860fa7",
        "colab": {
          "base_uri": "https://localhost:8080/",
          "height": 34
        }
      },
      "source": [
        "len(input_num), len(one_one)"
      ],
      "execution_count": 37,
      "outputs": [
        {
          "output_type": "execute_result",
          "data": {
            "text/plain": [
              "(0, 55296000)"
            ]
          },
          "metadata": {
            "tags": []
          },
          "execution_count": 37
        }
      ]
    },
    {
      "cell_type": "code",
      "metadata": {
        "id": "uXROi8UJ6APf",
        "colab_type": "code",
        "colab": {}
      },
      "source": [
        "dict_data = {}\n",
        "input_num, one_one, one_two, two_one,two_two\n",
        "dict_data['input'] = two_two\n",
        "dict_data['one_one'] = one_one\n",
        "dict_data['one_two'] = one_two\n",
        "dict_data['two_one'] = two_one\n",
        "frame = pd.DataFrame(dict_data)\n",
        "frame.to_csv('batch_1.csv')"
      ],
      "execution_count": 0,
      "outputs": []
    },
    {
      "cell_type": "code",
      "metadata": {
        "id": "vX07h4ZnjpYl",
        "colab_type": "code",
        "colab": {
          "base_uri": "https://localhost:8080/",
          "height": 206
        },
        "outputId": "3e1d705d-3fe5-44b9-ff06-14c4563caad4"
      },
      "source": [
        "frame.head()"
      ],
      "execution_count": 39,
      "outputs": [
        {
          "output_type": "execute_result",
          "data": {
            "text/html": [
              "<div>\n",
              "<style scoped>\n",
              "    .dataframe tbody tr th:only-of-type {\n",
              "        vertical-align: middle;\n",
              "    }\n",
              "\n",
              "    .dataframe tbody tr th {\n",
              "        vertical-align: top;\n",
              "    }\n",
              "\n",
              "    .dataframe thead th {\n",
              "        text-align: right;\n",
              "    }\n",
              "</style>\n",
              "<table border=\"1\" class=\"dataframe\">\n",
              "  <thead>\n",
              "    <tr style=\"text-align: right;\">\n",
              "      <th></th>\n",
              "      <th>input</th>\n",
              "      <th>one_one</th>\n",
              "      <th>one_two</th>\n",
              "      <th>two_one</th>\n",
              "    </tr>\n",
              "  </thead>\n",
              "  <tbody>\n",
              "    <tr>\n",
              "      <th>0</th>\n",
              "      <td>139</td>\n",
              "      <td>151</td>\n",
              "      <td>151</td>\n",
              "      <td>138</td>\n",
              "    </tr>\n",
              "    <tr>\n",
              "      <th>1</th>\n",
              "      <td>140</td>\n",
              "      <td>149</td>\n",
              "      <td>148</td>\n",
              "      <td>141</td>\n",
              "    </tr>\n",
              "    <tr>\n",
              "      <th>2</th>\n",
              "      <td>139</td>\n",
              "      <td>148</td>\n",
              "      <td>147</td>\n",
              "      <td>140</td>\n",
              "    </tr>\n",
              "    <tr>\n",
              "      <th>3</th>\n",
              "      <td>139</td>\n",
              "      <td>148</td>\n",
              "      <td>147</td>\n",
              "      <td>140</td>\n",
              "    </tr>\n",
              "    <tr>\n",
              "      <th>4</th>\n",
              "      <td>135</td>\n",
              "      <td>146</td>\n",
              "      <td>145</td>\n",
              "      <td>137</td>\n",
              "    </tr>\n",
              "  </tbody>\n",
              "</table>\n",
              "</div>"
            ],
            "text/plain": [
              "   input  one_one  one_two  two_one\n",
              "0    139      151      151      138\n",
              "1    140      149      148      141\n",
              "2    139      148      147      140\n",
              "3    139      148      147      140\n",
              "4    135      146      145      137"
            ]
          },
          "metadata": {
            "tags": []
          },
          "execution_count": 39
        }
      ]
    },
    {
      "cell_type": "code",
      "metadata": {
        "id": "0Q3bcaRQ6APo",
        "colab_type": "code",
        "colab": {}
      },
      "source": [
        "def fetech(dir_one, dir_two):\n",
        "    inp = cv2.imread(dir_one)\n",
        "    out = cv2.imread(dir_two)\n",
        "    \n",
        "    return a,b,c,d,e"
      ],
      "execution_count": 0,
      "outputs": []
    },
    {
      "cell_type": "code",
      "metadata": {
        "id": "ZM_FWVSi6AP1",
        "colab_type": "code",
        "colab": {}
      },
      "source": [
        "arr_one = []\n",
        "arr_out_one = []\n",
        "arr_out_two = []\n",
        "arr_out_three = []\n",
        "arr_out_four = []\n",
        "\n",
        "os.chdir(train_data_dir)\n",
        "# to low resolution dir first\n",
        "for k in low_list:\n",
        "    next_dir = train_data_dir + '/low resolution'+ '/' + k\n",
        "    img = cv2.imread(next_dir)\n",
        "    array_image = np.asarray(img)\n",
        "    "
      ],
      "execution_count": 0,
      "outputs": []
    },
    {
      "cell_type": "code",
      "metadata": {
        "id": "J9k_iWtH6AP6",
        "colab_type": "code",
        "colab": {}
      },
      "source": [
        "one_one, one_two, two_one, two_two = [],[],[],[]\n",
        "\n",
        "high_array_one = np.array([[1,2,3,4,5,6,7,7],[1,2,3,4,5,6,7,7],\n",
        "                         [1,2,3,4,5,6,7,7],[1,2,3,4,5,6,7,7],\n",
        "                         [1,2,3,4,5,6,7,7],[1,2,3,4,5,6,7,7],[1,2,3,4,5,6,7,7],[1,2,3,4,5,6,7,7],\n",
        "                         [1,2,3,4,5,6,7,7],[1,2,3,4,5,6,7,7]])\n",
        "        \n"
      ],
      "execution_count": 0,
      "outputs": []
    },
    {
      "cell_type": "code",
      "metadata": {
        "id": "JGB4bt7Q6AQB",
        "colab_type": "code",
        "outputId": "6f4641a6-7d8c-4e11-baa0-ecd5a9d1eac0",
        "colab": {}
      },
      "source": [
        "len(one_one)"
      ],
      "execution_count": 0,
      "outputs": [
        {
          "output_type": "execute_result",
          "data": {
            "text/plain": [
              "80"
            ]
          },
          "metadata": {
            "tags": []
          },
          "execution_count": 28
        }
      ]
    },
    {
      "cell_type": "code",
      "metadata": {
        "id": "iYZGK3D-6AQK",
        "colab_type": "code",
        "colab": {}
      },
      "source": [
        ""
      ],
      "execution_count": 0,
      "outputs": []
    }
  ]
}