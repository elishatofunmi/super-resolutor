{
  "nbformat": 4,
  "nbformat_minor": 0,
  "metadata": {
    "kernelspec": {
      "name": "python3",
      "display_name": "Python 3"
    },
    "language_info": {
      "codemirror_mode": {
        "name": "ipython",
        "version": 3
      },
      "file_extension": ".py",
      "mimetype": "text/x-python",
      "name": "python",
      "nbconvert_exporter": "python",
      "pygments_lexer": "ipython3",
      "version": "3.7.4"
    },
    "colab": {
      "name": "data and model.ipynb",
      "provenance": [],
      "collapsed_sections": []
    },
    "accelerator": "GPU"
  },
  "cells": [
    {
      "cell_type": "code",
      "metadata": {
        "id": "ezkQ_n_w6AL2",
        "colab_type": "code",
        "colab": {}
      },
      "source": [
        "import os, sys\n",
        "import numpy as np\n",
        "import scipy as sp\n",
        "import pandas as pd\n",
        "import re"
      ],
      "execution_count": 0,
      "outputs": []
    },
    {
      "cell_type": "code",
      "metadata": {
        "id": "BhxFJTxJM37s",
        "colab_type": "code",
        "colab": {}
      },
      "source": [
        "#!unzip Merge.zip"
      ],
      "execution_count": 0,
      "outputs": []
    },
    {
      "cell_type": "code",
      "metadata": {
        "id": "XUu_Y3eT6AMJ",
        "colab_type": "code",
        "outputId": "794eeb4c-2f07-4192-9fe7-75bfa70744fa",
        "colab": {
          "base_uri": "https://localhost:8080/",
          "height": 34
        }
      },
      "source": [
        "os.listdir()"
      ],
      "execution_count": 4,
      "outputs": [
        {
          "output_type": "execute_result",
          "data": {
            "text/plain": [
              "['.config', 'Merge.zip', 'Merge', 'sample_data']"
            ]
          },
          "metadata": {
            "tags": []
          },
          "execution_count": 4
        }
      ]
    },
    {
      "cell_type": "code",
      "metadata": {
        "id": "QQZWnhg6Yzfp",
        "colab_type": "code",
        "colab": {}
      },
      "source": [
        "os.chdir('/content/Merge/train')"
      ],
      "execution_count": 0,
      "outputs": []
    },
    {
      "cell_type": "code",
      "metadata": {
        "id": "3Gk0tS0m6AMb",
        "colab_type": "code",
        "outputId": "af67d997-2cce-4199-9e23-5d8515ea0b3c",
        "colab": {
          "base_uri": "https://localhost:8080/",
          "height": 34
        }
      },
      "source": [
        "'Low resolution' in os.listdir(), 'High resolution' in os.listdir()"
      ],
      "execution_count": 6,
      "outputs": [
        {
          "output_type": "execute_result",
          "data": {
            "text/plain": [
              "(True, True)"
            ]
          },
          "metadata": {
            "tags": []
          },
          "execution_count": 6
        }
      ]
    },
    {
      "cell_type": "code",
      "metadata": {
        "id": "DaUaPUU56AMm",
        "colab_type": "code",
        "colab": {}
      },
      "source": [
        "#os.chdir('/home/odemakinde/Desktop/super-resolutor-master/data_source/train_data')"
      ],
      "execution_count": 0,
      "outputs": []
    },
    {
      "cell_type": "code",
      "metadata": {
        "id": "Ddk-VLaZ6AMy",
        "colab_type": "code",
        "outputId": "31d05dda-9961-452a-9bd6-152a99ae3670",
        "colab": {
          "base_uri": "https://localhost:8080/",
          "height": 34
        }
      },
      "source": [
        "train_data_dir = os.getcwd()\n",
        "print(train_data_dir)"
      ],
      "execution_count": 8,
      "outputs": [
        {
          "output_type": "stream",
          "text": [
            "/content/Merge/train\n"
          ],
          "name": "stdout"
        }
      ]
    },
    {
      "cell_type": "code",
      "metadata": {
        "id": "-leM0sjr6AM9",
        "colab_type": "code",
        "outputId": "eb4b6861-eddb-4854-d71b-d4a6f7506123",
        "colab": {
          "base_uri": "https://localhost:8080/",
          "height": 34
        }
      },
      "source": [
        "directories = os.listdir()\n",
        "len(directories)"
      ],
      "execution_count": 9,
      "outputs": [
        {
          "output_type": "execute_result",
          "data": {
            "text/plain": [
              "3"
            ]
          },
          "metadata": {
            "tags": []
          },
          "execution_count": 9
        }
      ]
    },
    {
      "cell_type": "code",
      "metadata": {
        "id": "x2NCwL9f6ANG",
        "colab_type": "code",
        "colab": {}
      },
      "source": [
        "low_list, high_list = [],[]\n",
        "os.chdir(train_data_dir + '/Low resolution')\n",
        "low_list = os.listdir()\n",
        "os.chdir(train_data_dir + '/High resolution')\n",
        "high_list = os.listdir()\n",
        "os.chdir(train_data_dir)\n"
      ],
      "execution_count": 0,
      "outputs": []
    },
    {
      "cell_type": "code",
      "metadata": {
        "id": "zlKZDXzS6ANN",
        "colab_type": "code",
        "outputId": "d8ebe29c-d4d2-4587-ee00-7b44d64313a3",
        "colab": {
          "base_uri": "https://localhost:8080/",
          "height": 34
        }
      },
      "source": [
        "len(low_list), len(high_list)"
      ],
      "execution_count": 11,
      "outputs": [
        {
          "output_type": "execute_result",
          "data": {
            "text/plain": [
              "(400, 400)"
            ]
          },
          "metadata": {
            "tags": []
          },
          "execution_count": 11
        }
      ]
    },
    {
      "cell_type": "code",
      "metadata": {
        "id": "aYRUz07pef1L",
        "colab_type": "code",
        "colab": {
          "base_uri": "https://localhost:8080/",
          "height": 34
        },
        "outputId": "b944d737-4136-4dbb-85e7-6b4ffcf7f3e6"
      },
      "source": [
        "'2018.jpg' in low_list, '2018.jpg' in high_list"
      ],
      "execution_count": 12,
      "outputs": [
        {
          "output_type": "execute_result",
          "data": {
            "text/plain": [
              "(True, True)"
            ]
          },
          "metadata": {
            "tags": []
          },
          "execution_count": 12
        }
      ]
    },
    {
      "cell_type": "code",
      "metadata": {
        "id": "BePMKnzN6ANb",
        "colab_type": "code",
        "outputId": "8edce9ea-63aa-4db7-bfab-ea3274030e3e",
        "colab": {
          "base_uri": "https://localhost:8080/",
          "height": 34
        }
      },
      "source": [
        "#low resolution\n",
        "next_dir = train_data_dir + '/Low resolution'+ '/' \n",
        "low_train = next_dir[:] + low_list[0]\n",
        "print(low_train)"
      ],
      "execution_count": 13,
      "outputs": [
        {
          "output_type": "stream",
          "text": [
            "/content/Merge/train/Low resolution/187039.jpg\n"
          ],
          "name": "stdout"
        }
      ]
    },
    {
      "cell_type": "code",
      "metadata": {
        "id": "2iOUflCm6ANm",
        "colab_type": "code",
        "outputId": "5492bc28-e792-440c-98db-e17e0aace281",
        "colab": {
          "base_uri": "https://localhost:8080/",
          "height": 34
        }
      },
      "source": [
        "# high resolution\n",
        "high_one = train_data_dir + '/High resolution'+ '/' \n",
        "high_train = high_one[:] + low_list[0]\n",
        "print(high_train)"
      ],
      "execution_count": 14,
      "outputs": [
        {
          "output_type": "stream",
          "text": [
            "/content/Merge/train/High resolution/187039.jpg\n"
          ],
          "name": "stdout"
        }
      ]
    },
    {
      "cell_type": "code",
      "metadata": {
        "id": "vDA0XHk26AN4",
        "colab_type": "code",
        "outputId": "0399641d-d8cc-465a-f2d8-097875d22d41",
        "colab": {
          "base_uri": "https://localhost:8080/",
          "height": 52
        }
      },
      "source": [
        "# low resolution\n",
        "import cv2\n",
        "import numpy as np\n",
        "im_one = cv2.imread(low_train)#low\n",
        "im_two = cv2.imread(high_train)#high\n",
        "im_array1 = np.asarray(im_one)#low\n",
        "im_array2 = np.asarray(im_two)#high\n",
        "dim = im_array1.shape\n",
        "im_array1 = im_array1.reshape((dim[1],dim[0],dim[2]))\n",
        "#im_array1 = im_array1.reshape(160,240,3)\n",
        "print(im_array1.shape)\n",
        "print(im_array2.shape)\n",
        "\n"
      ],
      "execution_count": 15,
      "outputs": [
        {
          "output_type": "stream",
          "text": [
            "(160, 240, 3)\n",
            "(321, 481, 3)\n"
          ],
          "name": "stdout"
        }
      ]
    },
    {
      "cell_type": "code",
      "metadata": {
        "id": "fO04TOm8ZdC0",
        "colab_type": "code",
        "outputId": "115ae859-a84c-45e2-d2d1-d48adf93b3d4",
        "colab": {
          "base_uri": "https://localhost:8080/",
          "height": 34
        }
      },
      "source": [
        "os.getcwd()"
      ],
      "execution_count": 16,
      "outputs": [
        {
          "output_type": "execute_result",
          "data": {
            "text/plain": [
              "'/content/Merge/train'"
            ]
          },
          "metadata": {
            "tags": []
          },
          "execution_count": 16
        }
      ]
    },
    {
      "cell_type": "code",
      "metadata": {
        "id": "8XGpYZzp6AOl",
        "colab_type": "code",
        "colab": {}
      },
      "source": [
        "input_num, one_one, one_two, two_one,two_two = [],[],[],[],[]\n",
        "def func_array_one(i,j):\n",
        "    one_one.append(high_array_one[i-1][j-1])\n",
        "    one_two.append(high_array_one[i-1][j])\n",
        "    two_one.append(high_array_one[i][j-1])\n",
        "    two_two.append(high_array_one[i][j])\n",
        "    return\n",
        "def func_array_two(i,j):\n",
        "    one_one.append(high_array_two[i-1][j-1])\n",
        "    one_two.append(high_array_two[i-1][j])\n",
        "    two_one.append(high_array_two[i][j-1])\n",
        "    two_two.append(high_array_two[i][j])\n",
        "    return\n",
        "def func_array_three(i,j):\n",
        "    one_one.append(high_array_three[i-1][j-1])\n",
        "    one_two.append(high_array_three[i-1][j])\n",
        "    two_one.append(high_array_three[i][j-1])\n",
        "    two_two.append(high_array_three[i][j])\n",
        "    return"
      ],
      "execution_count": 0,
      "outputs": []
    },
    {
      "cell_type": "code",
      "metadata": {
        "id": "_c6M9gBb6AOq",
        "colab_type": "code",
        "colab": {}
      },
      "source": [
        "start = '>>'"
      ],
      "execution_count": 0,
      "outputs": []
    },
    {
      "cell_type": "code",
      "metadata": {
        "id": "SFkEozOH6AO2",
        "colab_type": "code",
        "outputId": "0fc31b98-8014-447f-a1d2-afc0d307478c",
        "colab": {
          "base_uri": "https://localhost:8080/",
          "height": 330
        }
      },
      "source": [
        "start = '>>'\n",
        "def track(end, now):\n",
        "    state = (now/end) * 100\n",
        "    global start\n",
        "    if state in [10.0,20.0,30.0,40.0,50.0,60.0,70.0,80.0,90.0,100.0]:\n",
        "        start = start + \">>\"\n",
        "    else:\n",
        "        pass\n",
        "    print(\"|                    |\")\n",
        "    print(start)\n",
        "    return\n",
        "for i,k in enumerate(range(1,10)):\n",
        "    track(10,i)\n"
      ],
      "execution_count": 19,
      "outputs": [
        {
          "output_type": "stream",
          "text": [
            "|                    |\n",
            ">>\n",
            "|                    |\n",
            ">>>>\n",
            "|                    |\n",
            ">>>>>>\n",
            "|                    |\n",
            ">>>>>>>>\n",
            "|                    |\n",
            ">>>>>>>>>>\n",
            "|                    |\n",
            ">>>>>>>>>>>>\n",
            "|                    |\n",
            ">>>>>>>>>>>>>>\n",
            "|                    |\n",
            ">>>>>>>>>>>>>>>>\n",
            "|                    |\n",
            ">>>>>>>>>>>>>>>>>>\n"
          ],
          "name": "stdout"
        }
      ]
    },
    {
      "cell_type": "code",
      "metadata": {
        "id": "hGAmkbtf6APD",
        "colab_type": "code",
        "outputId": "be26d9d8-d951-44c3-8d36-e0c4b5f255cf",
        "colab": {
          "base_uri": "https://localhost:8080/",
          "height": 34
        }
      },
      "source": [
        "start = \">>\"\n",
        "train_data_dir"
      ],
      "execution_count": 20,
      "outputs": [
        {
          "output_type": "execute_result",
          "data": {
            "text/plain": [
              "'/content/Merge/train'"
            ]
          },
          "metadata": {
            "tags": []
          },
          "execution_count": 20
        }
      ]
    },
    {
      "cell_type": "code",
      "metadata": {
        "id": "JORYchW16APO",
        "colab_type": "code",
        "outputId": "c00338b6-d2b0-459a-a71a-794f9f355fef",
        "colab": {
          "base_uri": "https://localhost:8080/",
          "height": 1000
        }
      },
      "source": [
        "\n",
        "for z,l in enumerate(low_list[:50]):\n",
        "    #get_num = get_number(l)\n",
        "    #if isinstance(int(get_num),int):\n",
        "    #    try:\n",
        "    #        if 'gray' in l:\n",
        "    #            string_val = 'high_resolution_gray'+str(get_num)+'.jpg'\n",
        "    #        elif 'rgb' in l:\n",
        "    #            string_val = 'high_resolution_rgb'+ str(get_num) + '.jpg'\n",
        "    #        else:\n",
        "    #            string_val = 'high_resolution_frame'+str(get_num) + '.jpg'\n",
        "    #    except (ValueError,keyError) as err:\n",
        "    #        continue\n",
        "    #else:\n",
        "    #    pass\n",
        "    \n",
        "    # get image\n",
        "    high_current_dir = train_data_dir + '/High resolution'+'/'+l\n",
        "    low_current_dir = train_data_dir + '/Low resolution'+'/'+l\n",
        "    #if string_val in high_list:\n",
        "    #proceed with data extraction\n",
        "    # read in corresponding low image resolution\n",
        "    low_img = cv2.imread(low_current_dir)\n",
        "    low_array = np.asarray(low_img)\n",
        "    \n",
        "    dim = low_array.shape\n",
        "    #reshape low resolution array by interchanging height and width\n",
        "    low_array = low_array.reshape((dim[1],dim[0],dim[2]))\n",
        "    low_array_one, low_array_two, low_array_three = cv2.split(low_array)\n",
        "    \n",
        "    #read in corresponding high image resolution\n",
        "    high_img = cv2.imread(high_current_dir)\n",
        "    high_array = np.asarray(high_img)\n",
        "    high_array_one, high_array_two, high_array_three = cv2.split(high_array)\n",
        "    \n",
        "    out_one = [func_array_one(i,j) for i in range(len(high_array_one)) for j in high_array_one[i]]\n",
        "    out_two = [func_array_two(i,j) for i in range(len(high_array_two)) for j in high_array_two[i]]\n",
        "    out_three = [func_array_three(i,j) for i in range(len(high_array_three)) for j in high_array_three[i]]\n",
        "    \n",
        "    #else:\n",
        "    #    pass\n",
        "    \n",
        "    #progress bar\n",
        "    track(50,z)"
      ],
      "execution_count": 21,
      "outputs": [
        {
          "output_type": "stream",
          "text": [
            "|                    |\n",
            ">>\n",
            "|                    |\n",
            ">>\n",
            "|                    |\n",
            ">>\n",
            "|                    |\n",
            ">>\n",
            "|                    |\n",
            ">>\n",
            "|                    |\n",
            ">>>>\n",
            "|                    |\n",
            ">>>>\n",
            "|                    |\n",
            ">>>>\n",
            "|                    |\n",
            ">>>>\n",
            "|                    |\n",
            ">>>>\n",
            "|                    |\n",
            ">>>>>>\n",
            "|                    |\n",
            ">>>>>>\n",
            "|                    |\n",
            ">>>>>>\n",
            "|                    |\n",
            ">>>>>>\n",
            "|                    |\n",
            ">>>>>>\n",
            "|                    |\n",
            ">>>>>>>>\n",
            "|                    |\n",
            ">>>>>>>>\n",
            "|                    |\n",
            ">>>>>>>>\n",
            "|                    |\n",
            ">>>>>>>>\n",
            "|                    |\n",
            ">>>>>>>>\n",
            "|                    |\n",
            ">>>>>>>>>>\n",
            "|                    |\n",
            ">>>>>>>>>>\n",
            "|                    |\n",
            ">>>>>>>>>>\n",
            "|                    |\n",
            ">>>>>>>>>>\n",
            "|                    |\n",
            ">>>>>>>>>>\n",
            "|                    |\n",
            ">>>>>>>>>>>>\n",
            "|                    |\n",
            ">>>>>>>>>>>>\n",
            "|                    |\n",
            ">>>>>>>>>>>>\n",
            "|                    |\n",
            ">>>>>>>>>>>>\n",
            "|                    |\n",
            ">>>>>>>>>>>>\n",
            "|                    |\n",
            ">>>>>>>>>>>>>>\n",
            "|                    |\n",
            ">>>>>>>>>>>>>>\n",
            "|                    |\n",
            ">>>>>>>>>>>>>>\n",
            "|                    |\n",
            ">>>>>>>>>>>>>>\n",
            "|                    |\n",
            ">>>>>>>>>>>>>>\n",
            "|                    |\n",
            ">>>>>>>>>>>>>>>>\n",
            "|                    |\n",
            ">>>>>>>>>>>>>>>>\n",
            "|                    |\n",
            ">>>>>>>>>>>>>>>>\n",
            "|                    |\n",
            ">>>>>>>>>>>>>>>>\n",
            "|                    |\n",
            ">>>>>>>>>>>>>>>>\n",
            "|                    |\n",
            ">>>>>>>>>>>>>>>>>>\n",
            "|                    |\n",
            ">>>>>>>>>>>>>>>>>>\n",
            "|                    |\n",
            ">>>>>>>>>>>>>>>>>>\n",
            "|                    |\n",
            ">>>>>>>>>>>>>>>>>>\n",
            "|                    |\n",
            ">>>>>>>>>>>>>>>>>>\n",
            "|                    |\n",
            ">>>>>>>>>>>>>>>>>>>>\n",
            "|                    |\n",
            ">>>>>>>>>>>>>>>>>>>>\n",
            "|                    |\n",
            ">>>>>>>>>>>>>>>>>>>>\n",
            "|                    |\n",
            ">>>>>>>>>>>>>>>>>>>>\n",
            "|                    |\n",
            ">>>>>>>>>>>>>>>>>>>>\n"
          ],
          "name": "stdout"
        }
      ]
    },
    {
      "cell_type": "code",
      "metadata": {
        "id": "C7clN6z96APW",
        "colab_type": "code",
        "outputId": "9ec6ece6-e301-4216-b0a5-52f9b8109c42",
        "colab": {
          "base_uri": "https://localhost:8080/",
          "height": 34
        }
      },
      "source": [
        "len(input_num), len(one_one)"
      ],
      "execution_count": 22,
      "outputs": [
        {
          "output_type": "execute_result",
          "data": {
            "text/plain": [
              "(0, 23160150)"
            ]
          },
          "metadata": {
            "tags": []
          },
          "execution_count": 22
        }
      ]
    },
    {
      "cell_type": "code",
      "metadata": {
        "id": "uXROi8UJ6APf",
        "colab_type": "code",
        "colab": {}
      },
      "source": [
        "dict_data = {}\n",
        "input_num, one_one, one_two, two_one,two_two\n",
        "dict_data['input'] = two_two\n",
        "dict_data['one_one'] = one_one\n",
        "dict_data['one_two'] = one_two\n",
        "dict_data['two_one'] = two_one\n",
        "frame = pd.DataFrame(dict_data)\n",
        "frame.to_csv('batch_1.csv')"
      ],
      "execution_count": 0,
      "outputs": []
    },
    {
      "cell_type": "code",
      "metadata": {
        "id": "_NzBl52ZSIz0",
        "colab_type": "code",
        "colab": {}
      },
      "source": [
        "# build model\n",
        "import pandas as pd\n",
        "frame = pd.read_csv('batch_1.csv')\n",
        "frame = frame.drop('Unnamed: 0', axis = 1)"
      ],
      "execution_count": 0,
      "outputs": []
    },
    {
      "cell_type": "code",
      "metadata": {
        "id": "vX07h4ZnjpYl",
        "colab_type": "code",
        "outputId": "2222c8ef-1b25-467a-8a0f-efbefab95a97",
        "colab": {
          "base_uri": "https://localhost:8080/",
          "height": 206
        }
      },
      "source": [
        "frame.head()"
      ],
      "execution_count": 25,
      "outputs": [
        {
          "output_type": "execute_result",
          "data": {
            "text/html": [
              "<div>\n",
              "<style scoped>\n",
              "    .dataframe tbody tr th:only-of-type {\n",
              "        vertical-align: middle;\n",
              "    }\n",
              "\n",
              "    .dataframe tbody tr th {\n",
              "        vertical-align: top;\n",
              "    }\n",
              "\n",
              "    .dataframe thead th {\n",
              "        text-align: right;\n",
              "    }\n",
              "</style>\n",
              "<table border=\"1\" class=\"dataframe\">\n",
              "  <thead>\n",
              "    <tr style=\"text-align: right;\">\n",
              "      <th></th>\n",
              "      <th>input</th>\n",
              "      <th>one_one</th>\n",
              "      <th>one_two</th>\n",
              "      <th>two_one</th>\n",
              "    </tr>\n",
              "  </thead>\n",
              "  <tbody>\n",
              "    <tr>\n",
              "      <th>0</th>\n",
              "      <td>0</td>\n",
              "      <td>84</td>\n",
              "      <td>86</td>\n",
              "      <td>13</td>\n",
              "    </tr>\n",
              "    <tr>\n",
              "      <th>1</th>\n",
              "      <td>59</td>\n",
              "      <td>87</td>\n",
              "      <td>83</td>\n",
              "      <td>49</td>\n",
              "    </tr>\n",
              "    <tr>\n",
              "      <th>2</th>\n",
              "      <td>41</td>\n",
              "      <td>84</td>\n",
              "      <td>87</td>\n",
              "      <td>43</td>\n",
              "    </tr>\n",
              "    <tr>\n",
              "      <th>3</th>\n",
              "      <td>51</td>\n",
              "      <td>81</td>\n",
              "      <td>76</td>\n",
              "      <td>47</td>\n",
              "    </tr>\n",
              "    <tr>\n",
              "      <th>4</th>\n",
              "      <td>47</td>\n",
              "      <td>88</td>\n",
              "      <td>84</td>\n",
              "      <td>29</td>\n",
              "    </tr>\n",
              "  </tbody>\n",
              "</table>\n",
              "</div>"
            ],
            "text/plain": [
              "   input  one_one  one_two  two_one\n",
              "0      0       84       86       13\n",
              "1     59       87       83       49\n",
              "2     41       84       87       43\n",
              "3     51       81       76       47\n",
              "4     47       88       84       29"
            ]
          },
          "metadata": {
            "tags": []
          },
          "execution_count": 25
        }
      ]
    },
    {
      "cell_type": "code",
      "metadata": {
        "id": "LU7cZv7dz1i1",
        "colab_type": "code",
        "colab": {
          "base_uri": "https://localhost:8080/",
          "height": 34
        },
        "outputId": "28dddd36-d85b-468a-a216-5fce7e928f67"
      },
      "source": [
        "import importlib\n",
        "import keras\n",
        "importlib.reload(keras)"
      ],
      "execution_count": 29,
      "outputs": [
        {
          "output_type": "execute_result",
          "data": {
            "text/plain": [
              "<module 'keras' from '/usr/local/lib/python3.6/dist-packages/keras/__init__.py'>"
            ]
          },
          "metadata": {
            "tags": []
          },
          "execution_count": 29
        }
      ]
    },
    {
      "cell_type": "code",
      "metadata": {
        "id": "0KFgVQWCoED3",
        "colab_type": "code",
        "colab": {}
      },
      "source": [
        "input_data = frame['input']\n",
        "output_data = frame.drop('input', axis = 1)"
      ],
      "execution_count": 0,
      "outputs": []
    },
    {
      "cell_type": "code",
      "metadata": {
        "id": "5Ii89fn-6A4r",
        "colab_type": "code",
        "colab": {}
      },
      "source": [
        "input_data= np.array(input_data).reshape(-1,1)"
      ],
      "execution_count": 0,
      "outputs": []
    },
    {
      "cell_type": "code",
      "metadata": {
        "id": "mnHs2Mjy5ChQ",
        "colab_type": "code",
        "colab": {}
      },
      "source": [
        "from sklearn.model_selection import train_test_split\n",
        "x_train, x_test, y_train, y_test = train_test_split(input_data, output_data, test_size = 0.3, random_state = 42)"
      ],
      "execution_count": 0,
      "outputs": []
    },
    {
      "cell_type": "code",
      "metadata": {
        "id": "ENj-o3oOw9am",
        "colab_type": "code",
        "colab": {
          "base_uri": "https://localhost:8080/",
          "height": 420
        },
        "outputId": "af32171d-b53b-4921-ffb7-7b43da36dfac"
      },
      "source": [
        "from keras import backend\n",
        "from keras.preprocessing import sequence\n",
        "from keras.models import Sequential\n",
        "from keras.layers import LSTM, Dense, Flatten\n",
        "\n",
        "max_features = 1\n",
        "# cut texts after this number of words (among top max_features most common words)\n",
        "maxlen = 2\n",
        "batch_size = 10000\n",
        "\n",
        "\n",
        "from sklearn.model_selection import train_test_split\n",
        "x_train, x_test, y_train, y_test = train_test_split(input_data, output_data, random_state = 42,test_size = 0.3)\n",
        "model = Sequential()\n",
        "\n",
        "model.add(LSTM(100,input_shape = (None, 1), dropout=0.2, recurrent_dropout=0.2, return_sequences = True))\n",
        "model.add(Dense(3, activation = None))\n",
        "\n",
        "# try using different optimizers and different optimizer configs\n",
        "model.compile(loss='mean_squared_error', optimizer='sgd',metrics=['accuracy'])\n",
        "\n",
        "print('Train...')\n",
        "model.fit(x_train, y_train,\n",
        "          batch_size=batch_size,\n",
        "          epochs=15,\n",
        "          validation_data=(x_test, y_test))\n",
        "score, acc = model.evaluate(x_test, y_test,\n",
        "                            batch_size=batch_size)\n",
        "print('Test score:', score)"
      ],
      "execution_count": 59,
      "outputs": [
        {
          "output_type": "stream",
          "text": [
            "Train...\n"
          ],
          "name": "stdout"
        },
        {
          "output_type": "error",
          "ename": "ValueError",
          "evalue": "ignored",
          "traceback": [
            "\u001b[0;31m---------------------------------------------------------------------------\u001b[0m",
            "\u001b[0;31mValueError\u001b[0m                                Traceback (most recent call last)",
            "\u001b[0;32m<ipython-input-59-dd8fe97a82d9>\u001b[0m in \u001b[0;36m<module>\u001b[0;34m()\u001b[0m\n\u001b[1;32m     24\u001b[0m           \u001b[0mbatch_size\u001b[0m\u001b[0;34m=\u001b[0m\u001b[0mbatch_size\u001b[0m\u001b[0;34m,\u001b[0m\u001b[0;34m\u001b[0m\u001b[0;34m\u001b[0m\u001b[0m\n\u001b[1;32m     25\u001b[0m           \u001b[0mepochs\u001b[0m\u001b[0;34m=\u001b[0m\u001b[0;36m15\u001b[0m\u001b[0;34m,\u001b[0m\u001b[0;34m\u001b[0m\u001b[0;34m\u001b[0m\u001b[0m\n\u001b[0;32m---> 26\u001b[0;31m           validation_data=(x_test, y_test))\n\u001b[0m\u001b[1;32m     27\u001b[0m score, acc = model.evaluate(x_test, y_test,\n\u001b[1;32m     28\u001b[0m                             batch_size=batch_size)\n",
            "\u001b[0;32m/usr/local/lib/python3.6/dist-packages/keras/models.py\u001b[0m in \u001b[0;36mfit\u001b[0;34m(self, x, y, batch_size, epochs, verbose, callbacks, validation_split, validation_data, shuffle, class_weight, sample_weight, initial_epoch, steps_per_epoch, validation_steps, **kwargs)\u001b[0m\n\u001b[1;32m    963\u001b[0m                               \u001b[0minitial_epoch\u001b[0m\u001b[0;34m=\u001b[0m\u001b[0minitial_epoch\u001b[0m\u001b[0;34m,\u001b[0m\u001b[0;34m\u001b[0m\u001b[0;34m\u001b[0m\u001b[0m\n\u001b[1;32m    964\u001b[0m                               \u001b[0msteps_per_epoch\u001b[0m\u001b[0;34m=\u001b[0m\u001b[0msteps_per_epoch\u001b[0m\u001b[0;34m,\u001b[0m\u001b[0;34m\u001b[0m\u001b[0;34m\u001b[0m\u001b[0m\n\u001b[0;32m--> 965\u001b[0;31m                               validation_steps=validation_steps)\n\u001b[0m\u001b[1;32m    966\u001b[0m \u001b[0;34m\u001b[0m\u001b[0m\n\u001b[1;32m    967\u001b[0m     def evaluate(self, x=None, y=None,\n",
            "\u001b[0;32m/usr/local/lib/python3.6/dist-packages/keras/engine/training.py\u001b[0m in \u001b[0;36mfit\u001b[0;34m(self, x, y, batch_size, epochs, verbose, callbacks, validation_split, validation_data, shuffle, class_weight, sample_weight, initial_epoch, steps_per_epoch, validation_steps, **kwargs)\u001b[0m\n\u001b[1;32m   1591\u001b[0m             \u001b[0mclass_weight\u001b[0m\u001b[0;34m=\u001b[0m\u001b[0mclass_weight\u001b[0m\u001b[0;34m,\u001b[0m\u001b[0;34m\u001b[0m\u001b[0;34m\u001b[0m\u001b[0m\n\u001b[1;32m   1592\u001b[0m             \u001b[0mcheck_batch_axis\u001b[0m\u001b[0;34m=\u001b[0m\u001b[0;32mFalse\u001b[0m\u001b[0;34m,\u001b[0m\u001b[0;34m\u001b[0m\u001b[0;34m\u001b[0m\u001b[0m\n\u001b[0;32m-> 1593\u001b[0;31m             batch_size=batch_size)\n\u001b[0m\u001b[1;32m   1594\u001b[0m         \u001b[0;31m# Prepare validation data.\u001b[0m\u001b[0;34m\u001b[0m\u001b[0;34m\u001b[0m\u001b[0;34m\u001b[0m\u001b[0m\n\u001b[1;32m   1595\u001b[0m         \u001b[0mdo_validation\u001b[0m \u001b[0;34m=\u001b[0m \u001b[0;32mFalse\u001b[0m\u001b[0;34m\u001b[0m\u001b[0;34m\u001b[0m\u001b[0m\n",
            "\u001b[0;32m/usr/local/lib/python3.6/dist-packages/keras/engine/training.py\u001b[0m in \u001b[0;36m_standardize_user_data\u001b[0;34m(self, x, y, sample_weight, class_weight, check_batch_axis, batch_size)\u001b[0m\n\u001b[1;32m   1424\u001b[0m                                     \u001b[0mself\u001b[0m\u001b[0;34m.\u001b[0m\u001b[0m_feed_input_shapes\u001b[0m\u001b[0;34m,\u001b[0m\u001b[0;34m\u001b[0m\u001b[0;34m\u001b[0m\u001b[0m\n\u001b[1;32m   1425\u001b[0m                                     \u001b[0mcheck_batch_axis\u001b[0m\u001b[0;34m=\u001b[0m\u001b[0;32mFalse\u001b[0m\u001b[0;34m,\u001b[0m\u001b[0;34m\u001b[0m\u001b[0;34m\u001b[0m\u001b[0m\n\u001b[0;32m-> 1426\u001b[0;31m                                     exception_prefix='input')\n\u001b[0m\u001b[1;32m   1427\u001b[0m         y = _standardize_input_data(y, self._feed_output_names,\n\u001b[1;32m   1428\u001b[0m                                     \u001b[0moutput_shapes\u001b[0m\u001b[0;34m,\u001b[0m\u001b[0;34m\u001b[0m\u001b[0;34m\u001b[0m\u001b[0m\n",
            "\u001b[0;32m/usr/local/lib/python3.6/dist-packages/keras/engine/training.py\u001b[0m in \u001b[0;36m_standardize_input_data\u001b[0;34m(data, names, shapes, check_batch_axis, exception_prefix)\u001b[0m\n\u001b[1;32m    108\u001b[0m                         \u001b[0;34m': expected '\u001b[0m \u001b[0;34m+\u001b[0m \u001b[0mnames\u001b[0m\u001b[0;34m[\u001b[0m\u001b[0mi\u001b[0m\u001b[0;34m]\u001b[0m \u001b[0;34m+\u001b[0m \u001b[0;34m' to have '\u001b[0m \u001b[0;34m+\u001b[0m\u001b[0;34m\u001b[0m\u001b[0;34m\u001b[0m\u001b[0m\n\u001b[1;32m    109\u001b[0m                         \u001b[0mstr\u001b[0m\u001b[0;34m(\u001b[0m\u001b[0mlen\u001b[0m\u001b[0;34m(\u001b[0m\u001b[0mshape\u001b[0m\u001b[0;34m)\u001b[0m\u001b[0;34m)\u001b[0m \u001b[0;34m+\u001b[0m \u001b[0;34m' dimensions, but got array '\u001b[0m\u001b[0;34m\u001b[0m\u001b[0;34m\u001b[0m\u001b[0m\n\u001b[0;32m--> 110\u001b[0;31m                         'with shape ' + str(data_shape))\n\u001b[0m\u001b[1;32m    111\u001b[0m                 \u001b[0;32mif\u001b[0m \u001b[0;32mnot\u001b[0m \u001b[0mcheck_batch_axis\u001b[0m\u001b[0;34m:\u001b[0m\u001b[0;34m\u001b[0m\u001b[0;34m\u001b[0m\u001b[0m\n\u001b[1;32m    112\u001b[0m                     \u001b[0mdata_shape\u001b[0m \u001b[0;34m=\u001b[0m \u001b[0mdata_shape\u001b[0m\u001b[0;34m[\u001b[0m\u001b[0;36m1\u001b[0m\u001b[0;34m:\u001b[0m\u001b[0;34m]\u001b[0m\u001b[0;34m\u001b[0m\u001b[0;34m\u001b[0m\u001b[0m\n",
            "\u001b[0;31mValueError\u001b[0m: Error when checking input: expected lstm_15_input to have 3 dimensions, but got array with shape (16212105, 1)"
          ]
        }
      ]
    },
    {
      "cell_type": "code",
      "metadata": {
        "id": "MMeuuk7apEAz",
        "colab_type": "code",
        "colab": {
          "base_uri": "https://localhost:8080/",
          "height": 237
        },
        "outputId": "9c4d24b9-a214-4af9-f233-7a9dc0814f6d"
      },
      "source": [
        "\n",
        "model.add(Dense(100, input_dim=1, activation='relu'))\n",
        "model.add(Dense(300, activation='relu'))\n",
        "model.add(Dense(100, activation='relu'))\n",
        "model.add(Dense(4, activation = None))\n"
      ],
      "execution_count": 63,
      "outputs": [
        {
          "output_type": "error",
          "ename": "NameError",
          "evalue": "ignored",
          "traceback": [
            "\u001b[0;31m---------------------------------------------------------------------------\u001b[0m",
            "\u001b[0;31mNameError\u001b[0m                                 Traceback (most recent call last)",
            "\u001b[0;32m<ipython-input-63-3ee6a14f7489>\u001b[0m in \u001b[0;36m<module>\u001b[0;34m()\u001b[0m\n\u001b[1;32m      1\u001b[0m \u001b[0;34m\u001b[0m\u001b[0m\n\u001b[0;32m----> 2\u001b[0;31m \u001b[0mmodel\u001b[0m\u001b[0;34m.\u001b[0m\u001b[0madd\u001b[0m\u001b[0;34m(\u001b[0m\u001b[0mDense\u001b[0m\u001b[0;34m(\u001b[0m\u001b[0;36m100\u001b[0m\u001b[0;34m,\u001b[0m \u001b[0minput_dim\u001b[0m\u001b[0;34m=\u001b[0m\u001b[0;36m1\u001b[0m\u001b[0;34m,\u001b[0m \u001b[0mactivation\u001b[0m\u001b[0;34m=\u001b[0m\u001b[0;34m'relu'\u001b[0m\u001b[0;34m)\u001b[0m\u001b[0;34m)\u001b[0m\u001b[0;34m\u001b[0m\u001b[0;34m\u001b[0m\u001b[0m\n\u001b[0m\u001b[1;32m      3\u001b[0m \u001b[0mmodel\u001b[0m\u001b[0;34m.\u001b[0m\u001b[0madd\u001b[0m\u001b[0;34m(\u001b[0m\u001b[0mDense\u001b[0m\u001b[0;34m(\u001b[0m\u001b[0;36m300\u001b[0m\u001b[0;34m,\u001b[0m \u001b[0mactivation\u001b[0m\u001b[0;34m=\u001b[0m\u001b[0;34m'relu'\u001b[0m\u001b[0;34m)\u001b[0m\u001b[0;34m)\u001b[0m\u001b[0;34m\u001b[0m\u001b[0;34m\u001b[0m\u001b[0m\n\u001b[1;32m      4\u001b[0m \u001b[0mmodel\u001b[0m\u001b[0;34m.\u001b[0m\u001b[0madd\u001b[0m\u001b[0;34m(\u001b[0m\u001b[0mDense\u001b[0m\u001b[0;34m(\u001b[0m\u001b[0;36m100\u001b[0m\u001b[0;34m,\u001b[0m \u001b[0mactivation\u001b[0m\u001b[0;34m=\u001b[0m\u001b[0;34m'relu'\u001b[0m\u001b[0;34m)\u001b[0m\u001b[0;34m)\u001b[0m\u001b[0;34m\u001b[0m\u001b[0;34m\u001b[0m\u001b[0m\n\u001b[1;32m      5\u001b[0m \u001b[0mmodel\u001b[0m\u001b[0;34m.\u001b[0m\u001b[0madd\u001b[0m\u001b[0;34m(\u001b[0m\u001b[0mDense\u001b[0m\u001b[0;34m(\u001b[0m\u001b[0;36m4\u001b[0m\u001b[0;34m,\u001b[0m \u001b[0mactivation\u001b[0m \u001b[0;34m=\u001b[0m \u001b[0;32mNone\u001b[0m\u001b[0;34m)\u001b[0m\u001b[0;34m)\u001b[0m\u001b[0;34m\u001b[0m\u001b[0;34m\u001b[0m\u001b[0m\n",
            "\u001b[0;31mNameError\u001b[0m: name 'model' is not defined"
          ]
        }
      ]
    },
    {
      "cell_type": "code",
      "metadata": {
        "id": "fyDBkiZpVJyl",
        "colab_type": "code",
        "outputId": "535835df-1fdd-43aa-82cd-897cc6568cfc",
        "colab": {
          "base_uri": "https://localhost:8080/",
          "height": 295
        }
      },
      "source": [
        "model.summary()"
      ],
      "execution_count": 0,
      "outputs": [
        {
          "output_type": "stream",
          "text": [
            "Model: \"sequential_7\"\n",
            "_________________________________________________________________\n",
            "Layer (type)                 Output Shape              Param #   \n",
            "=================================================================\n",
            "dense_30 (Dense)             (None, 100)               200       \n",
            "_________________________________________________________________\n",
            "dense_31 (Dense)             (None, 300)               30300     \n",
            "_________________________________________________________________\n",
            "dense_32 (Dense)             (None, 100)               30100     \n",
            "_________________________________________________________________\n",
            "dense_33 (Dense)             (None, 4)                 404       \n",
            "=================================================================\n",
            "Total params: 61,004\n",
            "Trainable params: 61,004\n",
            "Non-trainable params: 0\n",
            "_________________________________________________________________\n"
          ],
          "name": "stdout"
        }
      ]
    },
    {
      "cell_type": "code",
      "metadata": {
        "id": "-_-u2vOfVV3c",
        "colab_type": "code",
        "colab": {}
      },
      "source": [
        "from sklearn.model_selection import train_test_split\n",
        "\n",
        "x_train, x_test, y_train, y_test = train_test_split(input_data, output_data, test_size = 0.30, random_state = 42)\n"
      ],
      "execution_count": 0,
      "outputs": []
    },
    {
      "cell_type": "code",
      "metadata": {
        "id": "ocz1lvV5V4wA",
        "colab_type": "code",
        "colab": {}
      },
      "source": [
        "from keras.optimizers import SGD\n",
        "model.compile(loss='mean_squared_error', optimizer='Adam', metrics=['mse','mae', 'mape', 'cosine'])"
      ],
      "execution_count": 0,
      "outputs": []
    },
    {
      "cell_type": "code",
      "metadata": {
        "id": "BzjIOvNmVsTV",
        "colab_type": "code",
        "outputId": "e22c9cda-7910-4077-f8c5-fac4e971ee91",
        "colab": {
          "base_uri": "https://localhost:8080/",
          "height": 384
        }
      },
      "source": [
        "history = model.fit(x_train, y_train, epochs = 10, batch_size = 10000)"
      ],
      "execution_count": 0,
      "outputs": [
        {
          "output_type": "stream",
          "text": [
            "Epoch 1/10\n",
            "102675/102675 [==============================] - 1s 6us/step - loss: 13691.4135 - mean_squared_error: 13691.4135 - mean_absolute_error: 110.0999 - mean_absolute_percentage_error: 84.7986 - cosine_proximity: -0.8622\n",
            "Epoch 2/10\n",
            "102675/102675 [==============================] - 0s 2us/step - loss: 3867.6507 - mean_squared_error: 3867.6507 - mean_absolute_error: 50.0374 - mean_absolute_percentage_error: 38.5190 - cosine_proximity: -0.9540\n",
            "Epoch 3/10\n",
            "102675/102675 [==============================] - 0s 2us/step - loss: 640.0371 - mean_squared_error: 640.0371 - mean_absolute_error: 21.2403 - mean_absolute_percentage_error: 16.3987 - cosine_proximity: -0.9965\n",
            "Epoch 4/10\n",
            "102675/102675 [==============================] - 0s 2us/step - loss: 223.2400 - mean_squared_error: 223.2400 - mean_absolute_error: 10.7959 - mean_absolute_percentage_error: 8.3549 - cosine_proximity: -0.9960\n",
            "Epoch 5/10\n",
            "102675/102675 [==============================] - 0s 2us/step - loss: 116.4344 - mean_squared_error: 116.4344 - mean_absolute_error: 7.3827 - mean_absolute_percentage_error: 5.7361 - cosine_proximity: -0.9977\n",
            "Epoch 6/10\n",
            "102675/102675 [==============================] - 0s 2us/step - loss: 39.1429 - mean_squared_error: 39.1429 - mean_absolute_error: 3.8910 - mean_absolute_percentage_error: 3.0659 - cosine_proximity: -0.9993\n",
            "Epoch 7/10\n",
            "102675/102675 [==============================] - 0s 2us/step - loss: 33.1036 - mean_squared_error: 33.1036 - mean_absolute_error: 3.2346 - mean_absolute_percentage_error: 2.5563 - cosine_proximity: -0.9994\n",
            "Epoch 8/10\n",
            "102675/102675 [==============================] - 0s 2us/step - loss: 27.9156 - mean_squared_error: 27.9156 - mean_absolute_error: 2.6871 - mean_absolute_percentage_error: 2.1528 - cosine_proximity: -0.9995\n",
            "Epoch 9/10\n",
            "102675/102675 [==============================] - 0s 2us/step - loss: 25.4486 - mean_squared_error: 25.4486 - mean_absolute_error: 2.3106 - mean_absolute_percentage_error: 1.8498 - cosine_proximity: -0.9996\n",
            "Epoch 10/10\n",
            "102675/102675 [==============================] - 0s 2us/step - loss: 24.9912 - mean_squared_error: 24.9912 - mean_absolute_error: 2.2099 - mean_absolute_percentage_error: 1.7793 - cosine_proximity: -0.9996\n"
          ],
          "name": "stdout"
        }
      ]
    },
    {
      "cell_type": "code",
      "metadata": {
        "id": "H4bkcXgOV2Tu",
        "colab_type": "code",
        "outputId": "4f2f9ba5-5ec2-4dfa-d607-25b96ba13cac",
        "colab": {
          "base_uri": "https://localhost:8080/",
          "height": 52
        }
      },
      "source": [
        "# evaluate the keras model\n",
        "accuracy = model.evaluate(x_train, y_train)\n",
        "print(accuracy)"
      ],
      "execution_count": 0,
      "outputs": [
        {
          "output_type": "stream",
          "text": [
            "102675/102675 [==============================] - 6s 63us/step\n",
            "[24.943365376195914, 24.943365376195914, 2.202258759910299, 1.7663646776983273, -0.9995979524210244]\n"
          ],
          "name": "stdout"
        }
      ]
    },
    {
      "cell_type": "code",
      "metadata": {
        "id": "UzTNacwgXWjE",
        "colab_type": "code",
        "outputId": "437227b4-114f-40bc-f4d2-9531ac48c42b",
        "colab": {
          "base_uri": "https://localhost:8080/",
          "height": 282
        }
      },
      "source": [
        "from matplotlib import pyplot\n",
        "pyplot.plot(history.history['mean_squared_error'])\n",
        "\n",
        "pyplot.show()\n",
        "pyplot.savefig('mean squared error with learning rate = 0.01 sgd.png')"
      ],
      "execution_count": 0,
      "outputs": [
        {
          "output_type": "display_data",
          "data": {
            "image/png": "[encoded data removed]",
            "text/plain": [
              "<Figure size 432x288 with 1 Axes>"
            ]
          },
          "metadata": {
            "tags": []
          }
        },
        {
          "output_type": "display_data",
          "data": {
            "text/plain": [
              "<Figure size 432x288 with 0 Axes>"
            ]
          },
          "metadata": {
            "tags": []
          }
        }
      ]
    },
    {
      "cell_type": "code",
      "metadata": {
        "id": "E2OEO_s3h8Nx",
        "colab_type": "code",
        "outputId": "6655a144-1f7b-4fb7-d1bf-9459cfed5c62",
        "colab": {
          "base_uri": "https://localhost:8080/",
          "height": 265
        }
      },
      "source": [
        "pyplot.plot(history.history['mean_absolute_error'])\n",
        "pyplot.savefig('mean absolute error.png')"
      ],
      "execution_count": 0,
      "outputs": [
        {
          "output_type": "display_data",
          "data": {
            "image/png": "[encoded data removed]",
            "text/plain": [
              "<Figure size 432x288 with 1 Axes>"
            ]
          },
          "metadata": {
            "tags": []
          }
        }
      ]
    },
    {
      "cell_type": "code",
      "metadata": {
        "id": "KacveaDljdOT",
        "colab_type": "code",
        "outputId": "0a260a69-d6d6-4b9f-d9a3-2ad8ce119c19",
        "colab": {
          "base_uri": "https://localhost:8080/",
          "height": 265
        }
      },
      "source": [
        "pyplot.plot(history.history['mean_absolute_percentage_error'])\n",
        "pyplot.savefig('mean absolute percentage error.png')"
      ],
      "execution_count": 0,
      "outputs": [
        {
          "output_type": "display_data",
          "data": {
            "image/png": "[encoded data removed]",
            "text/plain": [
              "<Figure size 432x288 with 1 Axes>"
            ]
          },
          "metadata": {
            "tags": []
          }
        }
      ]
    },
    {
      "cell_type": "code",
      "metadata": {
        "id": "YDpuO7wyjepM",
        "colab_type": "code",
        "outputId": "42f82527-7eda-4f1f-9f7a-b1736e889cfe",
        "colab": {
          "base_uri": "https://localhost:8080/",
          "height": 265
        }
      },
      "source": [
        "pyplot.plot(history.history['cosine_proximity'])\n",
        "pyplot.savefig('consine proximity.png')"
      ],
      "execution_count": 0,
      "outputs": [
        {
          "output_type": "display_data",
          "data": {
            "image/png": "[encoded data removed]",
            "text/plain": [
              "<Figure size 432x288 with 1 Axes>"
            ]
          },
          "metadata": {
            "tags": []
          }
        }
      ]
    },
    {
      "cell_type": "code",
      "metadata": {
        "id": "RnqDUYgrjfsN",
        "colab_type": "code",
        "colab": {}
      },
      "source": [
        "model.save('resolutor.h5')"
      ],
      "execution_count": 0,
      "outputs": []
    },
    {
      "cell_type": "code",
      "metadata": {
        "id": "pCKwtX1HkGzI",
        "colab_type": "code",
        "colab": {}
      },
      "source": [
        ""
      ],
      "execution_count": 0,
      "outputs": []
    }
  ]
}